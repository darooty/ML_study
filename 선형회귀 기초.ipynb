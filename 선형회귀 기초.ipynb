{
 "cells": [
  {
   "cell_type": "markdown",
   "id": "1c9d3fc5",
   "metadata": {},
   "source": [
    "# 선형회귀 이해하기."
   ]
  },
  {
   "cell_type": "code",
   "execution_count": null,
   "id": "8aea341a",
   "metadata": {},
   "outputs": [],
   "source": [
    "'''\n",
    "선형회귀 part1 - 직접 OLS 구현하기.\n",
    "\n",
    "sklearn의 datasets에서 make_regression 함수를 사용하면 선형회귀용 데이터셋을 만들 수 있다.\n",
    "인자로 n_samples, n_features, bias, noise, coef, random_state를 필요로 한다.\n",
    "리턴값은 X0, y, w이다. y는 1차원 배열인데 열백터로 reshape 해야 한다.\n",
    "'''"
   ]
  },
  {
   "cell_type": "code",
   "execution_count": 1,
   "id": "6ef45982",
   "metadata": {},
   "outputs": [],
   "source": [
    "import numpy as np\n",
    "import pandas as pd"
   ]
  },
  {
   "cell_type": "code",
   "execution_count": 2,
   "id": "f4887544",
   "metadata": {},
   "outputs": [],
   "source": [
    "from sklearn.datasets import make_regression\n",
    "from statsmodels.api import add_constant"
   ]
  },
  {
   "cell_type": "code",
   "execution_count": 3,
   "id": "d26e130f",
   "metadata": {},
   "outputs": [],
   "source": [
    "X0, y, w = make_regression(n_samples=100, n_features=5, bias=100, noise=10, coef=True, random_state=True)"
   ]
  },
  {
   "cell_type": "code",
   "execution_count": 12,
   "id": "01f585b6",
   "metadata": {},
   "outputs": [],
   "source": [
    "# y를 열벡터로 변형\n",
    "y = y.reshape(len(y), 1)"
   ]
  },
  {
   "cell_type": "code",
   "execution_count": 15,
   "id": "1561666f",
   "metadata": {},
   "outputs": [],
   "source": [
    "# 상수항 결합\n",
    "X = add_constant(X0)"
   ]
  },
  {
   "cell_type": "code",
   "execution_count": 19,
   "id": "a1e16a11",
   "metadata": {},
   "outputs": [],
   "source": [
    "# OLS를 사용해서 w벡터 직접 구하기.\n",
    "w = np.linalg.inv(X.T @ X) @ X.T @ y"
   ]
  },
  {
   "cell_type": "code",
   "execution_count": 20,
   "id": "b8572e54",
   "metadata": {},
   "outputs": [
    {
     "data": {
      "text/plain": [
       "array([[100.97198982],\n",
       "       [  8.23155766],\n",
       "       [ 51.62669014],\n",
       "       [ 35.68489779],\n",
       "       [ 26.46372731],\n",
       "       [ 22.49300908]])"
      ]
     },
     "execution_count": 20,
     "metadata": {},
     "output_type": "execute_result"
    }
   ],
   "source": [
    "# 가중치 결과\n",
    "w"
   ]
  },
  {
   "cell_type": "code",
   "execution_count": 24,
   "id": "3320e826",
   "metadata": {
    "scrolled": true
   },
   "outputs": [],
   "source": [
    "# 예측값 벡터 구하기.\n",
    "y_ = X @ w"
   ]
  },
  {
   "cell_type": "code",
   "execution_count": 32,
   "id": "c527aa9c",
   "metadata": {
    "scrolled": true
   },
   "outputs": [
    {
     "data": {
      "text/plain": [
       "array([[ 132.23471426],\n",
       "       [ 156.99996383],\n",
       "       [ 209.50432051],\n",
       "       [  47.77297442],\n",
       "       [-161.04915117]])"
      ]
     },
     "execution_count": 32,
     "metadata": {},
     "output_type": "execute_result"
    }
   ],
   "source": [
    "# 정답 벡터\n",
    "y[:5]"
   ]
  },
  {
   "cell_type": "code",
   "execution_count": 33,
   "id": "46da86f5",
   "metadata": {
    "scrolled": true
   },
   "outputs": [
    {
     "data": {
      "text/plain": [
       "array([[ 130.34130807],\n",
       "       [ 181.32511203],\n",
       "       [ 206.9112515 ],\n",
       "       [  51.19991119],\n",
       "       [-171.7617931 ]])"
      ]
     },
     "execution_count": 33,
     "metadata": {},
     "output_type": "execute_result"
    }
   ],
   "source": [
    "# 예측 벡터\n",
    "y_[:5]"
   ]
  },
  {
   "cell_type": "code",
   "execution_count": 27,
   "id": "63f877f7",
   "metadata": {},
   "outputs": [],
   "source": [
    "# 잔체 벡터\n",
    "e = y - y_"
   ]
  },
  {
   "cell_type": "code",
   "execution_count": 29,
   "id": "e12c4ae3",
   "metadata": {},
   "outputs": [],
   "source": [
    "# RSS 구하기\n",
    "RSS = e.T @ e"
   ]
  },
  {
   "cell_type": "code",
   "execution_count": 30,
   "id": "b6e48905",
   "metadata": {},
   "outputs": [
    {
     "data": {
      "text/plain": [
       "array([[8609.81952755]])"
      ]
     },
     "execution_count": 30,
     "metadata": {},
     "output_type": "execute_result"
    }
   ],
   "source": [
    "RSS"
   ]
  },
  {
   "cell_type": "code",
   "execution_count": null,
   "id": "0cc2f06e",
   "metadata": {},
   "outputs": [],
   "source": [
    "'''\n",
    "선형회귀 part2 - sklearn의 LinearRegression 사용하기.\n",
    "\n",
    "sklearn의 linear_model에 있는 LinearRegression 클래스를 사용하면 보다 쉽게 선형회귀식을 얻을 수 있다.\n",
    "'''"
   ]
  },
  {
   "cell_type": "code",
   "execution_count": 35,
   "id": "788c16da",
   "metadata": {},
   "outputs": [],
   "source": [
    "from sklearn.linear_model import LinearRegression"
   ]
  },
  {
   "cell_type": "code",
   "execution_count": 36,
   "id": "865ff44b",
   "metadata": {},
   "outputs": [],
   "source": [
    "# 선형회귀 모델 생성.\n",
    "# 만약 사용할 데이터에 상수결합이 이미 되어 있다면 fit_intercept를 False로 전달해야 한다.\n",
    "model = LinearRegression()"
   ]
  },
  {
   "cell_type": "code",
   "execution_count": 38,
   "id": "c8092a96",
   "metadata": {},
   "outputs": [],
   "source": [
    "# fit 함수를 사용하면 전달된 X와 y에 대한 선형회귀 모델을 리턴한다.\n",
    "model = model.fit(X0, y)"
   ]
  },
  {
   "cell_type": "code",
   "execution_count": 39,
   "id": "cab5dcae",
   "metadata": {},
   "outputs": [
    {
     "data": {
      "text/plain": [
       "(array([[ 8.23155766, 51.62669014, 35.68489779, 26.46372731, 22.49300908]]),\n",
       " array([100.97198982]))"
      ]
     },
     "execution_count": 39,
     "metadata": {},
     "output_type": "execute_result"
    }
   ],
   "source": [
    "# coef_는 가중치 벡터, intercept_는 상수항을 의미한다.\n",
    "model.coef_, model.intercept_"
   ]
  },
  {
   "cell_type": "code",
   "execution_count": 46,
   "id": "edad16a8",
   "metadata": {},
   "outputs": [],
   "source": [
    "# 테스트 데이터.\n",
    "X_test = np.array([[1, 2, 3, 4, 5], [6, 7, 8, 9, 10]])"
   ]
  },
  {
   "cell_type": "code",
   "execution_count": 47,
   "id": "40fb0694",
   "metadata": {},
   "outputs": [
    {
     "data": {
      "text/plain": [
       "array([[ 537.83157578],\n",
       "       [1260.33098567]])"
      ]
     },
     "execution_count": 47,
     "metadata": {},
     "output_type": "execute_result"
    }
   ],
   "source": [
    "# 테스트 데이터에 대한 예측 결과.\n",
    "model.predict(X_test)"
   ]
  },
  {
   "cell_type": "code",
   "execution_count": null,
   "id": "9e72ef80",
   "metadata": {},
   "outputs": [],
   "source": [
    "'''\n",
    "선형회귀 part3 - statsmodels 패키지 사용하기.\n",
    "\n",
    "statsmodels의 OLS를 사용한다.\n",
    "OLS의 인자로 y와 X를 데이터프레임 형식으로 전달해주면 모델이 반환된다. 이 때 X는 상수항 결합이 완료되어야 한다.\n",
    "model의 fit 함수를 사용하면 RegressionResults 객체가 반환된다.\n",
    "RegressionResults 객체의 predict 함수를 사용하면 예측 결과를 얻을 수 있고 summary 함수를 사용하면 선형회귀의 결과 요약을 얻을 수 있다.\n",
    "'''"
   ]
  },
  {
   "cell_type": "code",
   "execution_count": 77,
   "id": "82b45f6a",
   "metadata": {},
   "outputs": [],
   "source": [
    "import statsmodels.api as sm"
   ]
  },
  {
   "cell_type": "code",
   "execution_count": 78,
   "id": "e84b15ea",
   "metadata": {},
   "outputs": [],
   "source": [
    "X = pd.DataFrame(data=X0, columns=['f1', 'f2', 'f3', 'f4', 'f5'])\n",
    "X = sm.add_constant(X)"
   ]
  },
  {
   "cell_type": "code",
   "execution_count": 79,
   "id": "55bbb8c8",
   "metadata": {},
   "outputs": [],
   "source": [
    "y = pd.DataFrame(data=y, columns=['y'])"
   ]
  },
  {
   "cell_type": "code",
   "execution_count": 85,
   "id": "644e19c3",
   "metadata": {},
   "outputs": [],
   "source": [
    "model = sm.OLS(y, X)"
   ]
  },
  {
   "cell_type": "code",
   "execution_count": 86,
   "id": "62fc1c17",
   "metadata": {},
   "outputs": [],
   "source": [
    "rlt = model.fit()"
   ]
  },
  {
   "cell_type": "code",
   "execution_count": 87,
   "id": "ed8ec747",
   "metadata": {},
   "outputs": [
    {
     "data": {
      "text/html": [
       "<table class=\"simpletable\">\n",
       "<caption>OLS Regression Results</caption>\n",
       "<tr>\n",
       "  <th>Dep. Variable:</th>            <td>y</td>        <th>  R-squared:         </th> <td>   0.984</td>\n",
       "</tr>\n",
       "<tr>\n",
       "  <th>Model:</th>                   <td>OLS</td>       <th>  Adj. R-squared:    </th> <td>   0.983</td>\n",
       "</tr>\n",
       "<tr>\n",
       "  <th>Method:</th>             <td>Least Squares</td>  <th>  F-statistic:       </th> <td>   1140.</td>\n",
       "</tr>\n",
       "<tr>\n",
       "  <th>Date:</th>             <td>Sat, 04 Sep 2021</td> <th>  Prob (F-statistic):</th> <td>1.83e-82</td>\n",
       "</tr>\n",
       "<tr>\n",
       "  <th>Time:</th>                 <td>17:45:01</td>     <th>  Log-Likelihood:    </th> <td> -364.67</td>\n",
       "</tr>\n",
       "<tr>\n",
       "  <th>No. Observations:</th>      <td>   100</td>      <th>  AIC:               </th> <td>   741.3</td>\n",
       "</tr>\n",
       "<tr>\n",
       "  <th>Df Residuals:</th>          <td>    94</td>      <th>  BIC:               </th> <td>   757.0</td>\n",
       "</tr>\n",
       "<tr>\n",
       "  <th>Df Model:</th>              <td>     5</td>      <th>                     </th>     <td> </td>   \n",
       "</tr>\n",
       "<tr>\n",
       "  <th>Covariance Type:</th>      <td>nonrobust</td>    <th>                     </th>     <td> </td>   \n",
       "</tr>\n",
       "</table>\n",
       "<table class=\"simpletable\">\n",
       "<tr>\n",
       "    <td></td>       <th>coef</th>     <th>std err</th>      <th>t</th>      <th>P>|t|</th>  <th>[0.025</th>    <th>0.975]</th>  \n",
       "</tr>\n",
       "<tr>\n",
       "  <th>const</th> <td>  100.9720</td> <td>    0.987</td> <td>  102.337</td> <td> 0.000</td> <td>   99.013</td> <td>  102.931</td>\n",
       "</tr>\n",
       "<tr>\n",
       "  <th>f1</th>    <td>    8.2316</td> <td>    0.956</td> <td>    8.610</td> <td> 0.000</td> <td>    6.333</td> <td>   10.130</td>\n",
       "</tr>\n",
       "<tr>\n",
       "  <th>f2</th>    <td>   51.6267</td> <td>    0.942</td> <td>   54.801</td> <td> 0.000</td> <td>   49.756</td> <td>   53.497</td>\n",
       "</tr>\n",
       "<tr>\n",
       "  <th>f3</th>    <td>   35.6849</td> <td>    0.991</td> <td>   36.014</td> <td> 0.000</td> <td>   33.718</td> <td>   37.652</td>\n",
       "</tr>\n",
       "<tr>\n",
       "  <th>f4</th>    <td>   26.4637</td> <td>    1.036</td> <td>   25.542</td> <td> 0.000</td> <td>   24.407</td> <td>   28.521</td>\n",
       "</tr>\n",
       "<tr>\n",
       "  <th>f5</th>    <td>   22.4930</td> <td>    1.067</td> <td>   21.087</td> <td> 0.000</td> <td>   20.375</td> <td>   24.611</td>\n",
       "</tr>\n",
       "</table>\n",
       "<table class=\"simpletable\">\n",
       "<tr>\n",
       "  <th>Omnibus:</th>       <td> 1.740</td> <th>  Durbin-Watson:     </th> <td>   1.683</td>\n",
       "</tr>\n",
       "<tr>\n",
       "  <th>Prob(Omnibus):</th> <td> 0.419</td> <th>  Jarque-Bera (JB):  </th> <td>   1.492</td>\n",
       "</tr>\n",
       "<tr>\n",
       "  <th>Skew:</th>          <td>-0.150</td> <th>  Prob(JB):          </th> <td>   0.474</td>\n",
       "</tr>\n",
       "<tr>\n",
       "  <th>Kurtosis:</th>      <td> 2.482</td> <th>  Cond. No.          </th> <td>    1.48</td>\n",
       "</tr>\n",
       "</table><br/><br/>Notes:<br/>[1] Standard Errors assume that the covariance matrix of the errors is correctly specified."
      ],
      "text/plain": [
       "<class 'statsmodels.iolib.summary.Summary'>\n",
       "\"\"\"\n",
       "                            OLS Regression Results                            \n",
       "==============================================================================\n",
       "Dep. Variable:                      y   R-squared:                       0.984\n",
       "Model:                            OLS   Adj. R-squared:                  0.983\n",
       "Method:                 Least Squares   F-statistic:                     1140.\n",
       "Date:                Sat, 04 Sep 2021   Prob (F-statistic):           1.83e-82\n",
       "Time:                        17:45:01   Log-Likelihood:                -364.67\n",
       "No. Observations:                 100   AIC:                             741.3\n",
       "Df Residuals:                      94   BIC:                             757.0\n",
       "Df Model:                           5                                         \n",
       "Covariance Type:            nonrobust                                         \n",
       "==============================================================================\n",
       "                 coef    std err          t      P>|t|      [0.025      0.975]\n",
       "------------------------------------------------------------------------------\n",
       "const        100.9720      0.987    102.337      0.000      99.013     102.931\n",
       "f1             8.2316      0.956      8.610      0.000       6.333      10.130\n",
       "f2            51.6267      0.942     54.801      0.000      49.756      53.497\n",
       "f3            35.6849      0.991     36.014      0.000      33.718      37.652\n",
       "f4            26.4637      1.036     25.542      0.000      24.407      28.521\n",
       "f5            22.4930      1.067     21.087      0.000      20.375      24.611\n",
       "==============================================================================\n",
       "Omnibus:                        1.740   Durbin-Watson:                   1.683\n",
       "Prob(Omnibus):                  0.419   Jarque-Bera (JB):                1.492\n",
       "Skew:                          -0.150   Prob(JB):                        0.474\n",
       "Kurtosis:                       2.482   Cond. No.                         1.48\n",
       "==============================================================================\n",
       "\n",
       "Notes:\n",
       "[1] Standard Errors assume that the covariance matrix of the errors is correctly specified.\n",
       "\"\"\""
      ]
     },
     "execution_count": 87,
     "metadata": {},
     "output_type": "execute_result"
    }
   ],
   "source": [
    "# 선형회귀 결과 요약.\n",
    "rlt.summary()"
   ]
  },
  {
   "cell_type": "code",
   "execution_count": 90,
   "id": "7e3745e0",
   "metadata": {},
   "outputs": [
    {
     "data": {
      "text/plain": [
       "array([ 537.83157578, 1260.33098567])"
      ]
     },
     "execution_count": 90,
     "metadata": {},
     "output_type": "execute_result"
    }
   ],
   "source": [
    "# 테스트 데이터에 대한 예측.\n",
    "rlt.predict([[1, 1, 2, 3, 4, 5], [1, 6, 7, 8, 9, 10]])"
   ]
  },
  {
   "cell_type": "code",
   "execution_count": 91,
   "id": "fd58abc2",
   "metadata": {},
   "outputs": [
    {
     "data": {
      "text/plain": [
       "const    100.971990\n",
       "f1         8.231558\n",
       "f2        51.626690\n",
       "f3        35.684898\n",
       "f4        26.463727\n",
       "f5        22.493009\n",
       "dtype: float64"
      ]
     },
     "execution_count": 91,
     "metadata": {},
     "output_type": "execute_result"
    }
   ],
   "source": [
    "# 가중치 벡터.\n",
    "rlt.params"
   ]
  },
  {
   "cell_type": "code",
   "execution_count": 93,
   "id": "b929ae6c",
   "metadata": {},
   "outputs": [
    {
     "data": {
      "text/plain": [
       "0      1.893406\n",
       "1    -24.325148\n",
       "2      2.593069\n",
       "3     -3.426937\n",
       "4     10.712642\n",
       "        ...    \n",
       "95     6.912101\n",
       "96    -4.243664\n",
       "97    -2.649401\n",
       "98     1.568349\n",
       "99    -5.582025\n",
       "Length: 100, dtype: float64"
      ]
     },
     "execution_count": 93,
     "metadata": {},
     "output_type": "execute_result"
    }
   ],
   "source": [
    "# 잔차 벡터.\n",
    "rlt.resid"
   ]
  },
  {
   "cell_type": "code",
   "execution_count": 95,
   "id": "e5657dac",
   "metadata": {},
   "outputs": [
    {
     "data": {
      "text/plain": [
       "-1.4420464822251234e-13"
      ]
     },
     "execution_count": 95,
     "metadata": {},
     "output_type": "execute_result"
    }
   ],
   "source": [
    "# 잔차의 평균은 0 (거의 근사)\n",
    "rlt.resid.mean()"
   ]
  },
  {
   "cell_type": "code",
   "execution_count": null,
   "id": "19ad383e",
   "metadata": {},
   "outputs": [],
   "source": [
    "# X의 평균에 대한 예측값은 y의 평균과 같다."
   ]
  },
  {
   "cell_type": "code",
   "execution_count": 109,
   "id": "3547ef96",
   "metadata": {},
   "outputs": [
    {
     "data": {
      "text/plain": [
       "array([110.3267573])"
      ]
     },
     "execution_count": 109,
     "metadata": {},
     "output_type": "execute_result"
    }
   ],
   "source": [
    "rlt.predict(X.mean().values)"
   ]
  },
  {
   "cell_type": "code",
   "execution_count": 110,
   "id": "3561ea61",
   "metadata": {},
   "outputs": [
    {
     "data": {
      "text/plain": [
       "y    110.326757\n",
       "dtype: float64"
      ]
     },
     "execution_count": 110,
     "metadata": {},
     "output_type": "execute_result"
    }
   ],
   "source": [
    "y.mean()"
   ]
  },
  {
   "cell_type": "code",
   "execution_count": null,
   "id": "db1b0828",
   "metadata": {},
   "outputs": [],
   "source": [
    "'''\n",
    "선형회귀 part3 - 보스턴 집값 예측\n",
    "'''"
   ]
  },
  {
   "cell_type": "code",
   "execution_count": null,
   "id": "7feb515d",
   "metadata": {},
   "outputs": [],
   "source": [
    "'''\n",
    "1번 방법: 직접 OLS 구현하기.\n",
    "'''"
   ]
  },
  {
   "cell_type": "code",
   "execution_count": 111,
   "id": "8a03cbc8",
   "metadata": {},
   "outputs": [],
   "source": [
    "from sklearn.datasets import load_boston\n",
    "boston = load_boston()"
   ]
  },
  {
   "cell_type": "code",
   "execution_count": 116,
   "id": "450a0f99",
   "metadata": {},
   "outputs": [],
   "source": [
    "X0, y = boston.data, boston.target.reshape(-1,1)\n",
    "X = sm.add_constant(X0)"
   ]
  },
  {
   "cell_type": "code",
   "execution_count": 119,
   "id": "9f8e95ed",
   "metadata": {},
   "outputs": [],
   "source": [
    "w = np.linalg.inv(X.T @ X) @ X.T @ y"
   ]
  },
  {
   "cell_type": "code",
   "execution_count": 120,
   "id": "c9d75e36",
   "metadata": {},
   "outputs": [
    {
     "data": {
      "text/plain": [
       "array([[ 3.64594884e+01],\n",
       "       [-1.08011358e-01],\n",
       "       [ 4.64204584e-02],\n",
       "       [ 2.05586264e-02],\n",
       "       [ 2.68673382e+00],\n",
       "       [-1.77666112e+01],\n",
       "       [ 3.80986521e+00],\n",
       "       [ 6.92224640e-04],\n",
       "       [-1.47556685e+00],\n",
       "       [ 3.06049479e-01],\n",
       "       [-1.23345939e-02],\n",
       "       [-9.52747232e-01],\n",
       "       [ 9.31168327e-03],\n",
       "       [-5.24758378e-01]])"
      ]
     },
     "execution_count": 120,
     "metadata": {},
     "output_type": "execute_result"
    }
   ],
   "source": [
    "w"
   ]
  },
  {
   "cell_type": "code",
   "execution_count": 122,
   "id": "e51940e8",
   "metadata": {},
   "outputs": [],
   "source": [
    "e = y - X @ w"
   ]
  },
  {
   "cell_type": "code",
   "execution_count": 123,
   "id": "f25c223d",
   "metadata": {},
   "outputs": [],
   "source": [
    "RSS = e.T @ e"
   ]
  },
  {
   "cell_type": "code",
   "execution_count": 124,
   "id": "62378bba",
   "metadata": {},
   "outputs": [
    {
     "data": {
      "text/plain": [
       "array([[11078.78457795]])"
      ]
     },
     "execution_count": 124,
     "metadata": {},
     "output_type": "execute_result"
    }
   ],
   "source": [
    "RSS"
   ]
  },
  {
   "cell_type": "code",
   "execution_count": 129,
   "id": "f282ce79",
   "metadata": {},
   "outputs": [],
   "source": [
    "test = [[1] + list(range(13)), [1] + list(range(13, 26))]"
   ]
  },
  {
   "cell_type": "code",
   "execution_count": 131,
   "id": "40b4bedc",
   "metadata": {},
   "outputs": [
    {
     "data": {
      "text/plain": [
       "array([[ -31.11946575],\n",
       "       [-212.60464153]])"
      ]
     },
     "execution_count": 131,
     "metadata": {},
     "output_type": "execute_result"
    }
   ],
   "source": [
    "pred = test @ w\n",
    "pred"
   ]
  },
  {
   "cell_type": "code",
   "execution_count": null,
   "id": "24b6c49c",
   "metadata": {},
   "outputs": [],
   "source": [
    "'''\n",
    "2번 방법: sklearn의 LinearRegression 사용하기.\n",
    "'''"
   ]
  },
  {
   "cell_type": "code",
   "execution_count": 135,
   "id": "c7bb207f",
   "metadata": {},
   "outputs": [],
   "source": [
    "from sklearn.linear_model import LinearRegression"
   ]
  },
  {
   "cell_type": "code",
   "execution_count": 136,
   "id": "f284a909",
   "metadata": {},
   "outputs": [],
   "source": [
    "model = LinearRegression()"
   ]
  },
  {
   "cell_type": "code",
   "execution_count": 138,
   "id": "dbf3926e",
   "metadata": {},
   "outputs": [],
   "source": [
    "model = model.fit(X0, y)"
   ]
  },
  {
   "cell_type": "code",
   "execution_count": 139,
   "id": "f812f775",
   "metadata": {},
   "outputs": [
    {
     "data": {
      "text/plain": [
       "(array([[-1.08011358e-01,  4.64204584e-02,  2.05586264e-02,\n",
       "          2.68673382e+00, -1.77666112e+01,  3.80986521e+00,\n",
       "          6.92224640e-04, -1.47556685e+00,  3.06049479e-01,\n",
       "         -1.23345939e-02, -9.52747232e-01,  9.31168327e-03,\n",
       "         -5.24758378e-01]]),\n",
       " array([36.45948839]))"
      ]
     },
     "execution_count": 139,
     "metadata": {},
     "output_type": "execute_result"
    }
   ],
   "source": [
    "model.coef_, model.intercept_"
   ]
  },
  {
   "cell_type": "code",
   "execution_count": 141,
   "id": "d87188d5",
   "metadata": {},
   "outputs": [],
   "source": [
    "test = [list(range(13)), list(range(13, 26))]"
   ]
  },
  {
   "cell_type": "code",
   "execution_count": 142,
   "id": "2be5640d",
   "metadata": {},
   "outputs": [
    {
     "data": {
      "text/plain": [
       "array([[ -31.11946574],\n",
       "       [-212.60464153]])"
      ]
     },
     "execution_count": 142,
     "metadata": {},
     "output_type": "execute_result"
    }
   ],
   "source": [
    "model.predict(test)"
   ]
  },
  {
   "cell_type": "code",
   "execution_count": null,
   "id": "ebca5556",
   "metadata": {},
   "outputs": [],
   "source": [
    "'''\n",
    "방법 3: statsmodels.api의 OLS 사용하기.\n",
    "'''"
   ]
  },
  {
   "cell_type": "code",
   "execution_count": 143,
   "id": "38bcf95e",
   "metadata": {},
   "outputs": [],
   "source": [
    "import statsmodels.api as sm"
   ]
  },
  {
   "cell_type": "code",
   "execution_count": 146,
   "id": "09fca036",
   "metadata": {},
   "outputs": [],
   "source": [
    "X = pd.DataFrame(data=X0)\n",
    "X = sm.add_constant(X)"
   ]
  },
  {
   "cell_type": "code",
   "execution_count": 148,
   "id": "3ca7262b",
   "metadata": {},
   "outputs": [],
   "source": [
    "y = pd.DataFrame(data=y)"
   ]
  },
  {
   "cell_type": "code",
   "execution_count": 150,
   "id": "10a7532f",
   "metadata": {},
   "outputs": [],
   "source": [
    "model = sm.OLS(y, X)"
   ]
  },
  {
   "cell_type": "code",
   "execution_count": 151,
   "id": "aa61cbb1",
   "metadata": {},
   "outputs": [],
   "source": [
    "rlt = model.fit()"
   ]
  },
  {
   "cell_type": "code",
   "execution_count": 152,
   "id": "89f7793f",
   "metadata": {},
   "outputs": [
    {
     "data": {
      "text/html": [
       "<table class=\"simpletable\">\n",
       "<caption>OLS Regression Results</caption>\n",
       "<tr>\n",
       "  <th>Dep. Variable:</th>            <td>0</td>        <th>  R-squared:         </th> <td>   0.741</td> \n",
       "</tr>\n",
       "<tr>\n",
       "  <th>Model:</th>                   <td>OLS</td>       <th>  Adj. R-squared:    </th> <td>   0.734</td> \n",
       "</tr>\n",
       "<tr>\n",
       "  <th>Method:</th>             <td>Least Squares</td>  <th>  F-statistic:       </th> <td>   108.1</td> \n",
       "</tr>\n",
       "<tr>\n",
       "  <th>Date:</th>             <td>Sat, 04 Sep 2021</td> <th>  Prob (F-statistic):</th> <td>6.72e-135</td>\n",
       "</tr>\n",
       "<tr>\n",
       "  <th>Time:</th>                 <td>18:12:05</td>     <th>  Log-Likelihood:    </th> <td> -1498.8</td> \n",
       "</tr>\n",
       "<tr>\n",
       "  <th>No. Observations:</th>      <td>   506</td>      <th>  AIC:               </th> <td>   3026.</td> \n",
       "</tr>\n",
       "<tr>\n",
       "  <th>Df Residuals:</th>          <td>   492</td>      <th>  BIC:               </th> <td>   3085.</td> \n",
       "</tr>\n",
       "<tr>\n",
       "  <th>Df Model:</th>              <td>    13</td>      <th>                     </th>     <td> </td>    \n",
       "</tr>\n",
       "<tr>\n",
       "  <th>Covariance Type:</th>      <td>nonrobust</td>    <th>                     </th>     <td> </td>    \n",
       "</tr>\n",
       "</table>\n",
       "<table class=\"simpletable\">\n",
       "<tr>\n",
       "    <td></td>       <th>coef</th>     <th>std err</th>      <th>t</th>      <th>P>|t|</th>  <th>[0.025</th>    <th>0.975]</th>  \n",
       "</tr>\n",
       "<tr>\n",
       "  <th>const</th> <td>   36.4595</td> <td>    5.103</td> <td>    7.144</td> <td> 0.000</td> <td>   26.432</td> <td>   46.487</td>\n",
       "</tr>\n",
       "<tr>\n",
       "  <th>0</th>     <td>   -0.1080</td> <td>    0.033</td> <td>   -3.287</td> <td> 0.001</td> <td>   -0.173</td> <td>   -0.043</td>\n",
       "</tr>\n",
       "<tr>\n",
       "  <th>1</th>     <td>    0.0464</td> <td>    0.014</td> <td>    3.382</td> <td> 0.001</td> <td>    0.019</td> <td>    0.073</td>\n",
       "</tr>\n",
       "<tr>\n",
       "  <th>2</th>     <td>    0.0206</td> <td>    0.061</td> <td>    0.334</td> <td> 0.738</td> <td>   -0.100</td> <td>    0.141</td>\n",
       "</tr>\n",
       "<tr>\n",
       "  <th>3</th>     <td>    2.6867</td> <td>    0.862</td> <td>    3.118</td> <td> 0.002</td> <td>    0.994</td> <td>    4.380</td>\n",
       "</tr>\n",
       "<tr>\n",
       "  <th>4</th>     <td>  -17.7666</td> <td>    3.820</td> <td>   -4.651</td> <td> 0.000</td> <td>  -25.272</td> <td>  -10.262</td>\n",
       "</tr>\n",
       "<tr>\n",
       "  <th>5</th>     <td>    3.8099</td> <td>    0.418</td> <td>    9.116</td> <td> 0.000</td> <td>    2.989</td> <td>    4.631</td>\n",
       "</tr>\n",
       "<tr>\n",
       "  <th>6</th>     <td>    0.0007</td> <td>    0.013</td> <td>    0.052</td> <td> 0.958</td> <td>   -0.025</td> <td>    0.027</td>\n",
       "</tr>\n",
       "<tr>\n",
       "  <th>7</th>     <td>   -1.4756</td> <td>    0.199</td> <td>   -7.398</td> <td> 0.000</td> <td>   -1.867</td> <td>   -1.084</td>\n",
       "</tr>\n",
       "<tr>\n",
       "  <th>8</th>     <td>    0.3060</td> <td>    0.066</td> <td>    4.613</td> <td> 0.000</td> <td>    0.176</td> <td>    0.436</td>\n",
       "</tr>\n",
       "<tr>\n",
       "  <th>9</th>     <td>   -0.0123</td> <td>    0.004</td> <td>   -3.280</td> <td> 0.001</td> <td>   -0.020</td> <td>   -0.005</td>\n",
       "</tr>\n",
       "<tr>\n",
       "  <th>10</th>    <td>   -0.9527</td> <td>    0.131</td> <td>   -7.283</td> <td> 0.000</td> <td>   -1.210</td> <td>   -0.696</td>\n",
       "</tr>\n",
       "<tr>\n",
       "  <th>11</th>    <td>    0.0093</td> <td>    0.003</td> <td>    3.467</td> <td> 0.001</td> <td>    0.004</td> <td>    0.015</td>\n",
       "</tr>\n",
       "<tr>\n",
       "  <th>12</th>    <td>   -0.5248</td> <td>    0.051</td> <td>  -10.347</td> <td> 0.000</td> <td>   -0.624</td> <td>   -0.425</td>\n",
       "</tr>\n",
       "</table>\n",
       "<table class=\"simpletable\">\n",
       "<tr>\n",
       "  <th>Omnibus:</th>       <td>178.041</td> <th>  Durbin-Watson:     </th> <td>   1.078</td> \n",
       "</tr>\n",
       "<tr>\n",
       "  <th>Prob(Omnibus):</th> <td> 0.000</td>  <th>  Jarque-Bera (JB):  </th> <td> 783.126</td> \n",
       "</tr>\n",
       "<tr>\n",
       "  <th>Skew:</th>          <td> 1.521</td>  <th>  Prob(JB):          </th> <td>8.84e-171</td>\n",
       "</tr>\n",
       "<tr>\n",
       "  <th>Kurtosis:</th>      <td> 8.281</td>  <th>  Cond. No.          </th> <td>1.51e+04</td> \n",
       "</tr>\n",
       "</table><br/><br/>Notes:<br/>[1] Standard Errors assume that the covariance matrix of the errors is correctly specified.<br/>[2] The condition number is large, 1.51e+04. This might indicate that there are<br/>strong multicollinearity or other numerical problems."
      ],
      "text/plain": [
       "<class 'statsmodels.iolib.summary.Summary'>\n",
       "\"\"\"\n",
       "                            OLS Regression Results                            \n",
       "==============================================================================\n",
       "Dep. Variable:                      0   R-squared:                       0.741\n",
       "Model:                            OLS   Adj. R-squared:                  0.734\n",
       "Method:                 Least Squares   F-statistic:                     108.1\n",
       "Date:                Sat, 04 Sep 2021   Prob (F-statistic):          6.72e-135\n",
       "Time:                        18:12:05   Log-Likelihood:                -1498.8\n",
       "No. Observations:                 506   AIC:                             3026.\n",
       "Df Residuals:                     492   BIC:                             3085.\n",
       "Df Model:                          13                                         \n",
       "Covariance Type:            nonrobust                                         \n",
       "==============================================================================\n",
       "                 coef    std err          t      P>|t|      [0.025      0.975]\n",
       "------------------------------------------------------------------------------\n",
       "const         36.4595      5.103      7.144      0.000      26.432      46.487\n",
       "0             -0.1080      0.033     -3.287      0.001      -0.173      -0.043\n",
       "1              0.0464      0.014      3.382      0.001       0.019       0.073\n",
       "2              0.0206      0.061      0.334      0.738      -0.100       0.141\n",
       "3              2.6867      0.862      3.118      0.002       0.994       4.380\n",
       "4            -17.7666      3.820     -4.651      0.000     -25.272     -10.262\n",
       "5              3.8099      0.418      9.116      0.000       2.989       4.631\n",
       "6              0.0007      0.013      0.052      0.958      -0.025       0.027\n",
       "7             -1.4756      0.199     -7.398      0.000      -1.867      -1.084\n",
       "8              0.3060      0.066      4.613      0.000       0.176       0.436\n",
       "9             -0.0123      0.004     -3.280      0.001      -0.020      -0.005\n",
       "10            -0.9527      0.131     -7.283      0.000      -1.210      -0.696\n",
       "11             0.0093      0.003      3.467      0.001       0.004       0.015\n",
       "12            -0.5248      0.051    -10.347      0.000      -0.624      -0.425\n",
       "==============================================================================\n",
       "Omnibus:                      178.041   Durbin-Watson:                   1.078\n",
       "Prob(Omnibus):                  0.000   Jarque-Bera (JB):              783.126\n",
       "Skew:                           1.521   Prob(JB):                    8.84e-171\n",
       "Kurtosis:                       8.281   Cond. No.                     1.51e+04\n",
       "==============================================================================\n",
       "\n",
       "Notes:\n",
       "[1] Standard Errors assume that the covariance matrix of the errors is correctly specified.\n",
       "[2] The condition number is large, 1.51e+04. This might indicate that there are\n",
       "strong multicollinearity or other numerical problems.\n",
       "\"\"\""
      ]
     },
     "execution_count": 152,
     "metadata": {},
     "output_type": "execute_result"
    }
   ],
   "source": [
    "rlt.summary()"
   ]
  },
  {
   "cell_type": "code",
   "execution_count": 153,
   "id": "1129266c",
   "metadata": {},
   "outputs": [],
   "source": [
    "test = [[1] + list(range(13)), [1] + list(range(13, 26))]"
   ]
  },
  {
   "cell_type": "code",
   "execution_count": 154,
   "id": "909aec13",
   "metadata": {},
   "outputs": [
    {
     "data": {
      "text/plain": [
       "array([ -31.11946574, -212.60464153])"
      ]
     },
     "execution_count": 154,
     "metadata": {},
     "output_type": "execute_result"
    }
   ],
   "source": [
    "rlt.predict(test)"
   ]
  }
 ],
 "metadata": {
  "hide_input": false,
  "kernelspec": {
   "display_name": "Python 3",
   "language": "python",
   "name": "python3"
  },
  "language_info": {
   "codemirror_mode": {
    "name": "ipython",
    "version": 3
   },
   "file_extension": ".py",
   "mimetype": "text/x-python",
   "name": "python",
   "nbconvert_exporter": "python",
   "pygments_lexer": "ipython3",
   "version": "3.7.10"
  }
 },
 "nbformat": 4,
 "nbformat_minor": 5
}
