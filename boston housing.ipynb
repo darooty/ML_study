{
 "cells": [
  {
   "cell_type": "code",
   "execution_count": 248,
   "id": "78b0dd8e",
   "metadata": {},
   "outputs": [],
   "source": [
    "import numpy as np\n",
    "import pandas as pd\n",
    "import matplotlib.pyplot as plt\n",
    "import seaborn as sns\n",
    "\n",
    "from sklearn.preprocessing import StandardScaler\n",
    "from sklearn.preprocessing import PolynomialFeatures\n",
    "\n",
    "from sklearn.linear_model import LinearRegression, Ridge, Lasso, ElasticNet\n",
    "import statsmodels.api as sm\n",
    "\n",
    "from statsmodels.stats.outliers_influence import variance_inflation_factor as vif\n",
    "\n",
    "from sklearn.model_selection import train_test_split\n",
    "from sklearn.model_selection import KFold\n",
    "from sklearn.feature_selection import SelectKBest\n",
    "from sklearn.feature_selection import f_classif\n",
    "\n",
    "from sklearn.metrics import r2_score\n",
    "from sklearn.metrics import mean_squared_error as mse\n",
    "from sklearn.metrics import median_absolute_error as mae"
   ]
  },
  {
   "cell_type": "code",
   "execution_count": 8,
   "id": "76423311",
   "metadata": {},
   "outputs": [],
   "source": [
    "from sklearn.datasets import load_boston"
   ]
  },
  {
   "cell_type": "code",
   "execution_count": 9,
   "id": "bfc612f0",
   "metadata": {},
   "outputs": [],
   "source": [
    "boston = load_boston()"
   ]
  },
  {
   "cell_type": "code",
   "execution_count": 10,
   "id": "e865e016",
   "metadata": {},
   "outputs": [],
   "source": [
    "X0, y = pd.DataFrame(boston['data'], columns=boston['feature_names']), pd.DataFrame(boston['target'], columns=['MEDV'])"
   ]
  },
  {
   "cell_type": "code",
   "execution_count": 31,
   "id": "2a0bd78d",
   "metadata": {},
   "outputs": [],
   "source": [
    "X = sm.add_constant(X0)"
   ]
  },
  {
   "cell_type": "code",
   "execution_count": 12,
   "id": "fb67edc4",
   "metadata": {},
   "outputs": [],
   "source": [
    "df = pd.concat([X0, y], axis=1)"
   ]
  },
  {
   "cell_type": "markdown",
   "id": "ae7e13b7",
   "metadata": {},
   "source": [
    "## 일변량 탐색"
   ]
  },
  {
   "cell_type": "code",
   "execution_count": 13,
   "id": "8bb206cb",
   "metadata": {},
   "outputs": [
    {
     "data": {
      "text/html": [
       "<div>\n",
       "<style scoped>\n",
       "    .dataframe tbody tr th:only-of-type {\n",
       "        vertical-align: middle;\n",
       "    }\n",
       "\n",
       "    .dataframe tbody tr th {\n",
       "        vertical-align: top;\n",
       "    }\n",
       "\n",
       "    .dataframe thead th {\n",
       "        text-align: right;\n",
       "    }\n",
       "</style>\n",
       "<table border=\"1\" class=\"dataframe\">\n",
       "  <thead>\n",
       "    <tr style=\"text-align: right;\">\n",
       "      <th></th>\n",
       "      <th>CRIM</th>\n",
       "      <th>ZN</th>\n",
       "      <th>INDUS</th>\n",
       "      <th>CHAS</th>\n",
       "      <th>NOX</th>\n",
       "      <th>RM</th>\n",
       "      <th>AGE</th>\n",
       "      <th>DIS</th>\n",
       "      <th>RAD</th>\n",
       "      <th>TAX</th>\n",
       "      <th>PTRATIO</th>\n",
       "      <th>B</th>\n",
       "      <th>LSTAT</th>\n",
       "      <th>MEDV</th>\n",
       "    </tr>\n",
       "  </thead>\n",
       "  <tbody>\n",
       "    <tr>\n",
       "      <th>0</th>\n",
       "      <td>0.00632</td>\n",
       "      <td>18.0</td>\n",
       "      <td>2.31</td>\n",
       "      <td>0.0</td>\n",
       "      <td>0.538</td>\n",
       "      <td>6.575</td>\n",
       "      <td>65.2</td>\n",
       "      <td>4.0900</td>\n",
       "      <td>1.0</td>\n",
       "      <td>296.0</td>\n",
       "      <td>15.3</td>\n",
       "      <td>396.90</td>\n",
       "      <td>4.98</td>\n",
       "      <td>24.0</td>\n",
       "    </tr>\n",
       "    <tr>\n",
       "      <th>1</th>\n",
       "      <td>0.02731</td>\n",
       "      <td>0.0</td>\n",
       "      <td>7.07</td>\n",
       "      <td>0.0</td>\n",
       "      <td>0.469</td>\n",
       "      <td>6.421</td>\n",
       "      <td>78.9</td>\n",
       "      <td>4.9671</td>\n",
       "      <td>2.0</td>\n",
       "      <td>242.0</td>\n",
       "      <td>17.8</td>\n",
       "      <td>396.90</td>\n",
       "      <td>9.14</td>\n",
       "      <td>21.6</td>\n",
       "    </tr>\n",
       "    <tr>\n",
       "      <th>2</th>\n",
       "      <td>0.02729</td>\n",
       "      <td>0.0</td>\n",
       "      <td>7.07</td>\n",
       "      <td>0.0</td>\n",
       "      <td>0.469</td>\n",
       "      <td>7.185</td>\n",
       "      <td>61.1</td>\n",
       "      <td>4.9671</td>\n",
       "      <td>2.0</td>\n",
       "      <td>242.0</td>\n",
       "      <td>17.8</td>\n",
       "      <td>392.83</td>\n",
       "      <td>4.03</td>\n",
       "      <td>34.7</td>\n",
       "    </tr>\n",
       "    <tr>\n",
       "      <th>3</th>\n",
       "      <td>0.03237</td>\n",
       "      <td>0.0</td>\n",
       "      <td>2.18</td>\n",
       "      <td>0.0</td>\n",
       "      <td>0.458</td>\n",
       "      <td>6.998</td>\n",
       "      <td>45.8</td>\n",
       "      <td>6.0622</td>\n",
       "      <td>3.0</td>\n",
       "      <td>222.0</td>\n",
       "      <td>18.7</td>\n",
       "      <td>394.63</td>\n",
       "      <td>2.94</td>\n",
       "      <td>33.4</td>\n",
       "    </tr>\n",
       "    <tr>\n",
       "      <th>4</th>\n",
       "      <td>0.06905</td>\n",
       "      <td>0.0</td>\n",
       "      <td>2.18</td>\n",
       "      <td>0.0</td>\n",
       "      <td>0.458</td>\n",
       "      <td>7.147</td>\n",
       "      <td>54.2</td>\n",
       "      <td>6.0622</td>\n",
       "      <td>3.0</td>\n",
       "      <td>222.0</td>\n",
       "      <td>18.7</td>\n",
       "      <td>396.90</td>\n",
       "      <td>5.33</td>\n",
       "      <td>36.2</td>\n",
       "    </tr>\n",
       "  </tbody>\n",
       "</table>\n",
       "</div>"
      ],
      "text/plain": [
       "      CRIM    ZN  INDUS  CHAS    NOX     RM   AGE     DIS  RAD    TAX  \\\n",
       "0  0.00632  18.0   2.31   0.0  0.538  6.575  65.2  4.0900  1.0  296.0   \n",
       "1  0.02731   0.0   7.07   0.0  0.469  6.421  78.9  4.9671  2.0  242.0   \n",
       "2  0.02729   0.0   7.07   0.0  0.469  7.185  61.1  4.9671  2.0  242.0   \n",
       "3  0.03237   0.0   2.18   0.0  0.458  6.998  45.8  6.0622  3.0  222.0   \n",
       "4  0.06905   0.0   2.18   0.0  0.458  7.147  54.2  6.0622  3.0  222.0   \n",
       "\n",
       "   PTRATIO       B  LSTAT  MEDV  \n",
       "0     15.3  396.90   4.98  24.0  \n",
       "1     17.8  396.90   9.14  21.6  \n",
       "2     17.8  392.83   4.03  34.7  \n",
       "3     18.7  394.63   2.94  33.4  \n",
       "4     18.7  396.90   5.33  36.2  "
      ]
     },
     "execution_count": 13,
     "metadata": {},
     "output_type": "execute_result"
    }
   ],
   "source": [
    "df.head()"
   ]
  },
  {
   "cell_type": "code",
   "execution_count": 21,
   "id": "a044828c",
   "metadata": {},
   "outputs": [
    {
     "name": "stdout",
     "output_type": "stream",
     "text": [
      "<class 'pandas.core.frame.DataFrame'>\n",
      "RangeIndex: 506 entries, 0 to 505\n",
      "Data columns (total 14 columns):\n",
      " #   Column   Non-Null Count  Dtype  \n",
      "---  ------   --------------  -----  \n",
      " 0   CRIM     506 non-null    float64\n",
      " 1   ZN       506 non-null    float64\n",
      " 2   INDUS    506 non-null    float64\n",
      " 3   CHAS     506 non-null    float64\n",
      " 4   NOX      506 non-null    float64\n",
      " 5   RM       506 non-null    float64\n",
      " 6   AGE      506 non-null    float64\n",
      " 7   DIS      506 non-null    float64\n",
      " 8   RAD      506 non-null    float64\n",
      " 9   TAX      506 non-null    float64\n",
      " 10  PTRATIO  506 non-null    float64\n",
      " 11  B        506 non-null    float64\n",
      " 12  LSTAT    506 non-null    float64\n",
      " 13  MEDV     506 non-null    float64\n",
      "dtypes: float64(14)\n",
      "memory usage: 55.5 KB\n"
     ]
    }
   ],
   "source": [
    "# 변수 타입 및 결측치 확인\n",
    "df.info()"
   ]
  },
  {
   "cell_type": "code",
   "execution_count": 15,
   "id": "1ca8a366",
   "metadata": {},
   "outputs": [
    {
     "data": {
      "text/html": [
       "<div>\n",
       "<style scoped>\n",
       "    .dataframe tbody tr th:only-of-type {\n",
       "        vertical-align: middle;\n",
       "    }\n",
       "\n",
       "    .dataframe tbody tr th {\n",
       "        vertical-align: top;\n",
       "    }\n",
       "\n",
       "    .dataframe thead th {\n",
       "        text-align: right;\n",
       "    }\n",
       "</style>\n",
       "<table border=\"1\" class=\"dataframe\">\n",
       "  <thead>\n",
       "    <tr style=\"text-align: right;\">\n",
       "      <th></th>\n",
       "      <th>CRIM</th>\n",
       "      <th>ZN</th>\n",
       "      <th>INDUS</th>\n",
       "      <th>CHAS</th>\n",
       "      <th>NOX</th>\n",
       "      <th>RM</th>\n",
       "      <th>AGE</th>\n",
       "      <th>DIS</th>\n",
       "      <th>RAD</th>\n",
       "      <th>TAX</th>\n",
       "      <th>PTRATIO</th>\n",
       "      <th>B</th>\n",
       "      <th>LSTAT</th>\n",
       "      <th>MEDV</th>\n",
       "    </tr>\n",
       "  </thead>\n",
       "  <tbody>\n",
       "    <tr>\n",
       "      <th>count</th>\n",
       "      <td>506.000000</td>\n",
       "      <td>506.000000</td>\n",
       "      <td>506.000000</td>\n",
       "      <td>506.000000</td>\n",
       "      <td>506.000000</td>\n",
       "      <td>506.000000</td>\n",
       "      <td>506.000000</td>\n",
       "      <td>506.000000</td>\n",
       "      <td>506.000000</td>\n",
       "      <td>506.000000</td>\n",
       "      <td>506.000000</td>\n",
       "      <td>506.000000</td>\n",
       "      <td>506.000000</td>\n",
       "      <td>506.000000</td>\n",
       "    </tr>\n",
       "    <tr>\n",
       "      <th>mean</th>\n",
       "      <td>3.613524</td>\n",
       "      <td>11.363636</td>\n",
       "      <td>11.136779</td>\n",
       "      <td>0.069170</td>\n",
       "      <td>0.554695</td>\n",
       "      <td>6.284634</td>\n",
       "      <td>68.574901</td>\n",
       "      <td>3.795043</td>\n",
       "      <td>9.549407</td>\n",
       "      <td>408.237154</td>\n",
       "      <td>18.455534</td>\n",
       "      <td>356.674032</td>\n",
       "      <td>12.653063</td>\n",
       "      <td>22.532806</td>\n",
       "    </tr>\n",
       "    <tr>\n",
       "      <th>std</th>\n",
       "      <td>8.601545</td>\n",
       "      <td>23.322453</td>\n",
       "      <td>6.860353</td>\n",
       "      <td>0.253994</td>\n",
       "      <td>0.115878</td>\n",
       "      <td>0.702617</td>\n",
       "      <td>28.148861</td>\n",
       "      <td>2.105710</td>\n",
       "      <td>8.707259</td>\n",
       "      <td>168.537116</td>\n",
       "      <td>2.164946</td>\n",
       "      <td>91.294864</td>\n",
       "      <td>7.141062</td>\n",
       "      <td>9.197104</td>\n",
       "    </tr>\n",
       "    <tr>\n",
       "      <th>min</th>\n",
       "      <td>0.006320</td>\n",
       "      <td>0.000000</td>\n",
       "      <td>0.460000</td>\n",
       "      <td>0.000000</td>\n",
       "      <td>0.385000</td>\n",
       "      <td>3.561000</td>\n",
       "      <td>2.900000</td>\n",
       "      <td>1.129600</td>\n",
       "      <td>1.000000</td>\n",
       "      <td>187.000000</td>\n",
       "      <td>12.600000</td>\n",
       "      <td>0.320000</td>\n",
       "      <td>1.730000</td>\n",
       "      <td>5.000000</td>\n",
       "    </tr>\n",
       "    <tr>\n",
       "      <th>25%</th>\n",
       "      <td>0.082045</td>\n",
       "      <td>0.000000</td>\n",
       "      <td>5.190000</td>\n",
       "      <td>0.000000</td>\n",
       "      <td>0.449000</td>\n",
       "      <td>5.885500</td>\n",
       "      <td>45.025000</td>\n",
       "      <td>2.100175</td>\n",
       "      <td>4.000000</td>\n",
       "      <td>279.000000</td>\n",
       "      <td>17.400000</td>\n",
       "      <td>375.377500</td>\n",
       "      <td>6.950000</td>\n",
       "      <td>17.025000</td>\n",
       "    </tr>\n",
       "    <tr>\n",
       "      <th>50%</th>\n",
       "      <td>0.256510</td>\n",
       "      <td>0.000000</td>\n",
       "      <td>9.690000</td>\n",
       "      <td>0.000000</td>\n",
       "      <td>0.538000</td>\n",
       "      <td>6.208500</td>\n",
       "      <td>77.500000</td>\n",
       "      <td>3.207450</td>\n",
       "      <td>5.000000</td>\n",
       "      <td>330.000000</td>\n",
       "      <td>19.050000</td>\n",
       "      <td>391.440000</td>\n",
       "      <td>11.360000</td>\n",
       "      <td>21.200000</td>\n",
       "    </tr>\n",
       "    <tr>\n",
       "      <th>75%</th>\n",
       "      <td>3.677083</td>\n",
       "      <td>12.500000</td>\n",
       "      <td>18.100000</td>\n",
       "      <td>0.000000</td>\n",
       "      <td>0.624000</td>\n",
       "      <td>6.623500</td>\n",
       "      <td>94.075000</td>\n",
       "      <td>5.188425</td>\n",
       "      <td>24.000000</td>\n",
       "      <td>666.000000</td>\n",
       "      <td>20.200000</td>\n",
       "      <td>396.225000</td>\n",
       "      <td>16.955000</td>\n",
       "      <td>25.000000</td>\n",
       "    </tr>\n",
       "    <tr>\n",
       "      <th>max</th>\n",
       "      <td>88.976200</td>\n",
       "      <td>100.000000</td>\n",
       "      <td>27.740000</td>\n",
       "      <td>1.000000</td>\n",
       "      <td>0.871000</td>\n",
       "      <td>8.780000</td>\n",
       "      <td>100.000000</td>\n",
       "      <td>12.126500</td>\n",
       "      <td>24.000000</td>\n",
       "      <td>711.000000</td>\n",
       "      <td>22.000000</td>\n",
       "      <td>396.900000</td>\n",
       "      <td>37.970000</td>\n",
       "      <td>50.000000</td>\n",
       "    </tr>\n",
       "  </tbody>\n",
       "</table>\n",
       "</div>"
      ],
      "text/plain": [
       "             CRIM          ZN       INDUS        CHAS         NOX          RM  \\\n",
       "count  506.000000  506.000000  506.000000  506.000000  506.000000  506.000000   \n",
       "mean     3.613524   11.363636   11.136779    0.069170    0.554695    6.284634   \n",
       "std      8.601545   23.322453    6.860353    0.253994    0.115878    0.702617   \n",
       "min      0.006320    0.000000    0.460000    0.000000    0.385000    3.561000   \n",
       "25%      0.082045    0.000000    5.190000    0.000000    0.449000    5.885500   \n",
       "50%      0.256510    0.000000    9.690000    0.000000    0.538000    6.208500   \n",
       "75%      3.677083   12.500000   18.100000    0.000000    0.624000    6.623500   \n",
       "max     88.976200  100.000000   27.740000    1.000000    0.871000    8.780000   \n",
       "\n",
       "              AGE         DIS         RAD         TAX     PTRATIO           B  \\\n",
       "count  506.000000  506.000000  506.000000  506.000000  506.000000  506.000000   \n",
       "mean    68.574901    3.795043    9.549407  408.237154   18.455534  356.674032   \n",
       "std     28.148861    2.105710    8.707259  168.537116    2.164946   91.294864   \n",
       "min      2.900000    1.129600    1.000000  187.000000   12.600000    0.320000   \n",
       "25%     45.025000    2.100175    4.000000  279.000000   17.400000  375.377500   \n",
       "50%     77.500000    3.207450    5.000000  330.000000   19.050000  391.440000   \n",
       "75%     94.075000    5.188425   24.000000  666.000000   20.200000  396.225000   \n",
       "max    100.000000   12.126500   24.000000  711.000000   22.000000  396.900000   \n",
       "\n",
       "            LSTAT        MEDV  \n",
       "count  506.000000  506.000000  \n",
       "mean    12.653063   22.532806  \n",
       "std      7.141062    9.197104  \n",
       "min      1.730000    5.000000  \n",
       "25%      6.950000   17.025000  \n",
       "50%     11.360000   21.200000  \n",
       "75%     16.955000   25.000000  \n",
       "max     37.970000   50.000000  "
      ]
     },
     "execution_count": 15,
     "metadata": {},
     "output_type": "execute_result"
    }
   ],
   "source": [
    "df.describe()"
   ]
  },
  {
   "cell_type": "code",
   "execution_count": 19,
   "id": "511ac5cb",
   "metadata": {},
   "outputs": [
    {
     "data": {
      "text/plain": [
       "CRIM       0\n",
       "ZN         0\n",
       "INDUS      0\n",
       "CHAS       0\n",
       "NOX        0\n",
       "RM         0\n",
       "AGE        0\n",
       "DIS        0\n",
       "RAD        0\n",
       "TAX        0\n",
       "PTRATIO    0\n",
       "B          0\n",
       "LSTAT      0\n",
       "MEDV       0\n",
       "dtype: int64"
      ]
     },
     "execution_count": 19,
     "metadata": {},
     "output_type": "execute_result"
    }
   ],
   "source": [
    "# 결측치 확인 - 결측치 없음.\n",
    "df.isnull().sum()"
   ]
  },
  {
   "cell_type": "code",
   "execution_count": 22,
   "id": "61a25a9d",
   "metadata": {},
   "outputs": [
    {
     "data": {
      "text/plain": [
       "CRIM       504\n",
       "ZN          26\n",
       "INDUS       76\n",
       "CHAS         2\n",
       "NOX         81\n",
       "RM         446\n",
       "AGE        356\n",
       "DIS        412\n",
       "RAD          9\n",
       "TAX         66\n",
       "PTRATIO     46\n",
       "B          357\n",
       "LSTAT      455\n",
       "MEDV       229\n",
       "dtype: int64"
      ]
     },
     "execution_count": 22,
     "metadata": {},
     "output_type": "execute_result"
    }
   ],
   "source": [
    "# 범주형 데이터 확인 - CHAS는 확실히 범주형, RAD도 범주형일 가능성 높음.\n",
    "df.nunique()"
   ]
  },
  {
   "cell_type": "code",
   "execution_count": 26,
   "id": "d2786425",
   "metadata": {},
   "outputs": [
    {
     "data": {
      "text/plain": [
       "array([ 1.,  2.,  3.,  4.,  5.,  6.,  7.,  8., 24.])"
      ]
     },
     "execution_count": 26,
     "metadata": {},
     "output_type": "execute_result"
    }
   ],
   "source": [
    "np.sort(df.RAD.unique())"
   ]
  },
  {
   "cell_type": "markdown",
   "id": "7c80e1e7",
   "metadata": {},
   "source": [
    "## 클랜징"
   ]
  },
  {
   "cell_type": "code",
   "execution_count": 32,
   "id": "33deaae6",
   "metadata": {},
   "outputs": [],
   "source": [
    "model = sm.OLS(y, X)\n",
    "rlt = model.fit()"
   ]
  },
  {
   "cell_type": "code",
   "execution_count": 36,
   "id": "989d6b6f",
   "metadata": {},
   "outputs": [],
   "source": [
    "influence = rlt.get_influence()\n",
    "std_resid = rlt.resid_pearson\n",
    "\n",
    "hat = influence.hat_matrix_diag\n",
    "cooks_dist, pval = influence.cooks_distance\n",
    "\n",
    "N, K = X.shape[0], X.shape[1]\n",
    "fox_recommendation = 4 / (N - K - 1)"
   ]
  },
  {
   "cell_type": "code",
   "execution_count": 41,
   "id": "795639b5",
   "metadata": {},
   "outputs": [
    {
     "data": {
      "image/png": "[encoded data removed]",
      "text/plain": [
       "<Figure size 2160x360 with 1 Axes>"
      ]
     },
     "metadata": {
      "needs_background": "light"
     },
     "output_type": "display_data"
    }
   ],
   "source": [
    "plt.figure(figsize=(30, 5))\n",
    "plt.stem(hat)\n",
    "plt.axhline(K/N, c='g', ls='--')\n",
    "plt.title('hat')\n",
    "plt.show()"
   ]
  },
  {
   "cell_type": "code",
   "execution_count": 40,
   "id": "3b92c2c5",
   "metadata": {},
   "outputs": [
    {
     "data": {
      "image/png": "[encoded data removed]",
      "text/plain": [
       "<Figure size 2160x360 with 1 Axes>"
      ]
     },
     "metadata": {
      "needs_background": "light"
     },
     "output_type": "display_data"
    }
   ],
   "source": [
    "plt.figure(figsize=(30, 5))\n",
    "plt.stem(std_resid)\n",
    "plt.axhline(3, c='g', ls='--')\n",
    "plt.axhline(-3, c='g', ls='--')\n",
    "plt.title('std resid')\n",
    "plt.show()"
   ]
  },
  {
   "cell_type": "code",
   "execution_count": 44,
   "id": "5d2da7c4",
   "metadata": {},
   "outputs": [],
   "source": [
    "outlier_idx = np.where(cooks_dist > fox_recommendation)[0]\n",
    "normal_idx = list(set(np.arange(N)).difference(set(outlier_idx)))"
   ]
  },
  {
   "cell_type": "code",
   "execution_count": 48,
   "id": "5eddd228",
   "metadata": {},
   "outputs": [
    {
     "data": {
      "image/png": "[encoded data removed]",
      "text/plain": [
       "<Figure size 1440x720 with 1 Axes>"
      ]
     },
     "metadata": {
      "needs_background": "light"
     },
     "output_type": "display_data"
    }
   ],
   "source": [
    "y_hat = rlt.predict(X)\n",
    "plt.figure(figsize=(20, 10))\n",
    "plt.scatter(y, y_hat)\n",
    "plt.scatter(y.iloc[outlier_idx,:], rlt.predict(X.iloc[outlier_idx,:]), c='r', s=200, alpha=0.5)\n",
    "plt.show()"
   ]
  },
  {
   "cell_type": "code",
   "execution_count": 119,
   "id": "3755fde0",
   "metadata": {},
   "outputs": [],
   "source": [
    "X0_c, y_c = X0.iloc[normal_idx, :], y.iloc[normal_idx, :]"
   ]
  },
  {
   "cell_type": "markdown",
   "id": "91602f12",
   "metadata": {},
   "source": [
    "## 스케일링"
   ]
  },
  {
   "cell_type": "code",
   "execution_count": 121,
   "id": "f6342b4f",
   "metadata": {},
   "outputs": [],
   "source": [
    "sc = StandardScaler()\n",
    "X0_c = pd.DataFrame(sc.fit_transform(X0_c), columns=X0_c.columns)\n",
    "y_c = pd.DataFrame(sc.fit_transform(y_c), columns=y_c.columns)"
   ]
  },
  {
   "cell_type": "markdown",
   "id": "4be71f13",
   "metadata": {},
   "source": [
    "## Linear Regression 1차"
   ]
  },
  {
   "cell_type": "code",
   "execution_count": 123,
   "id": "d528c37b",
   "metadata": {},
   "outputs": [],
   "source": [
    "train_x0_c, test_x0_c, train_y_c, test_y_c = train_test_split(X0_c, y_c, test_size=0.3, random_state=0)"
   ]
  },
  {
   "cell_type": "code",
   "execution_count": 124,
   "id": "dfbe48bf",
   "metadata": {},
   "outputs": [],
   "source": [
    "model_linear_reg = LinearRegression()\n",
    "model_linear_reg = model_linear_reg.fit(train_x0_c, train_y_c)"
   ]
  },
  {
   "cell_type": "code",
   "execution_count": 125,
   "id": "f6d5218c",
   "metadata": {},
   "outputs": [],
   "source": [
    "pred_y = model_linear_reg.predict(test_x0_c)"
   ]
  },
  {
   "cell_type": "code",
   "execution_count": 126,
   "id": "5f56de89",
   "metadata": {},
   "outputs": [
    {
     "data": {
      "text/plain": [
       "(0.7921669391502113, 0.19154659383781159, 0.264667081876637)"
      ]
     },
     "execution_count": 126,
     "metadata": {},
     "output_type": "execute_result"
    }
   ],
   "source": [
    "r2_score(test_y_c, pred_y), mse(test_y_c, pred_y), mae(test_y_c, pred_y)"
   ]
  },
  {
   "cell_type": "markdown",
   "id": "2d36d00b",
   "metadata": {},
   "source": [
    "## 변수 변환 - 비선형 변수 추가."
   ]
  },
  {
   "cell_type": "code",
   "execution_count": 162,
   "id": "4471ec37",
   "metadata": {},
   "outputs": [],
   "source": [
    "poly = PolynomialFeatures(degree=2, include_bias=False)\n",
    "X0_c_poly = pd.DataFrame(poly.fit_transform(X0_c), columns=poly.get_feature_names(X0_c.columns))"
   ]
  },
  {
   "cell_type": "markdown",
   "id": "a3e868b7",
   "metadata": {},
   "source": [
    "## Polynomial Regression 1차"
   ]
  },
  {
   "cell_type": "code",
   "execution_count": 163,
   "id": "fa0fa684",
   "metadata": {},
   "outputs": [],
   "source": [
    "train_x0_c_poly, test_x0_c_poly, train_y_c, test_y_c = train_test_split(X0_c_poly, y_c, test_size=0.3, random_state=0)"
   ]
  },
  {
   "cell_type": "code",
   "execution_count": 164,
   "id": "1e0857a6",
   "metadata": {},
   "outputs": [],
   "source": [
    "model_poly_reg = LinearRegression()\n",
    "model_poly_reg = model_poly_reg.fit(train_x0_c_poly, train_y_c)"
   ]
  },
  {
   "cell_type": "code",
   "execution_count": 165,
   "id": "2c2a2fbd",
   "metadata": {},
   "outputs": [],
   "source": [
    "pred_train_y = model_poly_reg.predict(train_x0_c_poly) \n",
    "pred_test_y = model_poly_reg.predict(test_x0_c_poly)"
   ]
  },
  {
   "cell_type": "code",
   "execution_count": 166,
   "id": "86f1ad71",
   "metadata": {},
   "outputs": [
    {
     "data": {
      "text/plain": [
       "(0.9464062421310273, 0.05529219408961998, 0.13623735868789183)"
      ]
     },
     "execution_count": 166,
     "metadata": {},
     "output_type": "execute_result"
    }
   ],
   "source": [
    "r2_score(train_y_c, pred_train_y), mse(train_y_c, pred_train_y), mae(train_y_c, pred_train_y)"
   ]
  },
  {
   "cell_type": "code",
   "execution_count": 167,
   "id": "6c45cda2",
   "metadata": {},
   "outputs": [
    {
     "data": {
      "text/plain": [
       "(0.8509257869283707, 0.1373922783322747, 0.16145249219895813)"
      ]
     },
     "execution_count": 167,
     "metadata": {},
     "output_type": "execute_result"
    }
   ],
   "source": [
    "r2_score(test_y_c, pred_test_y), mse(test_y_c, pred_test_y), mae(test_y_c, pred_test_y)"
   ]
  },
  {
   "cell_type": "markdown",
   "id": "62cb462d",
   "metadata": {},
   "source": [
    "## 변수선택, 차원축소"
   ]
  },
  {
   "cell_type": "code",
   "execution_count": 186,
   "id": "006930c1",
   "metadata": {},
   "outputs": [
    {
     "data": {
      "text/html": [
       "<div>\n",
       "<style scoped>\n",
       "    .dataframe tbody tr th:only-of-type {\n",
       "        vertical-align: middle;\n",
       "    }\n",
       "\n",
       "    .dataframe tbody tr th {\n",
       "        vertical-align: top;\n",
       "    }\n",
       "\n",
       "    .dataframe thead th {\n",
       "        text-align: right;\n",
       "    }\n",
       "</style>\n",
       "<table border=\"1\" class=\"dataframe\">\n",
       "  <thead>\n",
       "    <tr style=\"text-align: right;\">\n",
       "      <th></th>\n",
       "      <th>vif</th>\n",
       "    </tr>\n",
       "    <tr>\n",
       "      <th>feature</th>\n",
       "      <th></th>\n",
       "    </tr>\n",
       "  </thead>\n",
       "  <tbody>\n",
       "    <tr>\n",
       "      <th>CRIM</th>\n",
       "      <td>1.995198</td>\n",
       "    </tr>\n",
       "    <tr>\n",
       "      <th>ZN</th>\n",
       "      <td>2.406908</td>\n",
       "    </tr>\n",
       "    <tr>\n",
       "      <th>INDUS</th>\n",
       "      <td>3.928436</td>\n",
       "    </tr>\n",
       "    <tr>\n",
       "      <th>CHAS</th>\n",
       "      <td>1.064702</td>\n",
       "    </tr>\n",
       "    <tr>\n",
       "      <th>NOX</th>\n",
       "      <td>4.483609</td>\n",
       "    </tr>\n",
       "    <tr>\n",
       "      <th>RM</th>\n",
       "      <td>2.161615</td>\n",
       "    </tr>\n",
       "    <tr>\n",
       "      <th>AGE</th>\n",
       "      <td>3.370794</td>\n",
       "    </tr>\n",
       "    <tr>\n",
       "      <th>DIS</th>\n",
       "      <td>4.061343</td>\n",
       "    </tr>\n",
       "    <tr>\n",
       "      <th>RAD</th>\n",
       "      <td>7.381202</td>\n",
       "    </tr>\n",
       "    <tr>\n",
       "      <th>TAX</th>\n",
       "      <td>8.458849</td>\n",
       "    </tr>\n",
       "    <tr>\n",
       "      <th>PTRATIO</th>\n",
       "      <td>1.734928</td>\n",
       "    </tr>\n",
       "    <tr>\n",
       "      <th>B</th>\n",
       "      <td>1.386434</td>\n",
       "    </tr>\n",
       "    <tr>\n",
       "      <th>LSTAT</th>\n",
       "      <td>3.503465</td>\n",
       "    </tr>\n",
       "  </tbody>\n",
       "</table>\n",
       "</div>"
      ],
      "text/plain": [
       "              vif\n",
       "feature          \n",
       "CRIM     1.995198\n",
       "ZN       2.406908\n",
       "INDUS    3.928436\n",
       "CHAS     1.064702\n",
       "NOX      4.483609\n",
       "RM       2.161615\n",
       "AGE      3.370794\n",
       "DIS      4.061343\n",
       "RAD      7.381202\n",
       "TAX      8.458849\n",
       "PTRATIO  1.734928\n",
       "B        1.386434\n",
       "LSTAT    3.503465"
      ]
     },
     "execution_count": 186,
     "metadata": {},
     "output_type": "execute_result"
    }
   ],
   "source": [
    "vif_rlt = pd.DataFrame()\n",
    "vif_rlt['vif'] = [vif(X0_c.values, i) for i in range(len(X0_c.columns))]\n",
    "vif_rlt['feature'] = X0_c.columns\n",
    "vif_rlt = vif_rlt.set_index('feature', drop=True)\n",
    "vif_rlt"
   ]
  },
  {
   "cell_type": "code",
   "execution_count": 185,
   "id": "c76777c0",
   "metadata": {},
   "outputs": [
    {
     "data": {
      "text/plain": [
       "CRIM     0.662861\n",
       "INDUS    0.593976\n",
       "NOX      0.613753\n",
       "RAD      1.000000\n",
       "TAX      0.906312\n",
       "LSTAT    0.534549\n",
       "Name: RAD, dtype: float64"
      ]
     },
     "execution_count": 185,
     "metadata": {},
     "output_type": "execute_result"
    }
   ],
   "source": [
    "feature = 'RAD'\n",
    "X0_c.corr()[feature][X0_c.corr()[feature].map(lambda x: abs(x) > 0.5)]"
   ]
  },
  {
   "cell_type": "code",
   "execution_count": null,
   "id": "14e8e7e0",
   "metadata": {},
   "outputs": [],
   "source": [
    "# 초기 변수들에 대해 VIF와 상관분석을 진행해본 결과 상관성이 높은 변수는 존재하지만 VIF가 10을 넘어가는 변수가 없기 때문에 별도의 변수 선택은 하지 않음."
   ]
  },
  {
   "cell_type": "code",
   "execution_count": 198,
   "id": "4ab20808",
   "metadata": {},
   "outputs": [],
   "source": [
    "feature_size = len(X0_c_poly.columns) - 1"
   ]
  },
  {
   "cell_type": "code",
   "execution_count": 201,
   "id": "9ad6c6df",
   "metadata": {},
   "outputs": [
    {
     "name": "stderr",
     "output_type": "stream",
     "text": [
      "C:\\Users\\user\\anaconda3\\lib\\site-packages\\sklearn\\utils\\validation.py:63: DataConversionWarning: A column-vector y was passed when a 1d array was expected. Please change the shape of y to (n_samples, ), for example using ravel().\n",
      "  return f(*args, **kwargs)\n",
      "C:\\Users\\user\\anaconda3\\lib\\site-packages\\sklearn\\utils\\validation.py:63: DataConversionWarning: A column-vector y was passed when a 1d array was expected. Please change the shape of y to (n_samples, ), for example using ravel().\n",
      "  return f(*args, **kwargs)\n",
      "C:\\Users\\user\\anaconda3\\lib\\site-packages\\sklearn\\utils\\validation.py:63: DataConversionWarning: A column-vector y was passed when a 1d array was expected. Please change the shape of y to (n_samples, ), for example using ravel().\n",
      "  return f(*args, **kwargs)\n",
      "C:\\Users\\user\\anaconda3\\lib\\site-packages\\sklearn\\utils\\validation.py:63: DataConversionWarning: A column-vector y was passed when a 1d array was expected. Please change the shape of y to (n_samples, ), for example using ravel().\n",
      "  return f(*args, **kwargs)\n",
      "C:\\Users\\user\\anaconda3\\lib\\site-packages\\sklearn\\utils\\validation.py:63: DataConversionWarning: A column-vector y was passed when a 1d array was expected. Please change the shape of y to (n_samples, ), for example using ravel().\n",
      "  return f(*args, **kwargs)\n",
      "C:\\Users\\user\\anaconda3\\lib\\site-packages\\sklearn\\utils\\validation.py:63: DataConversionWarning: A column-vector y was passed when a 1d array was expected. Please change the shape of y to (n_samples, ), for example using ravel().\n",
      "  return f(*args, **kwargs)\n",
      "C:\\Users\\user\\anaconda3\\lib\\site-packages\\sklearn\\utils\\validation.py:63: DataConversionWarning: A column-vector y was passed when a 1d array was expected. Please change the shape of y to (n_samples, ), for example using ravel().\n",
      "  return f(*args, **kwargs)\n",
      "C:\\Users\\user\\anaconda3\\lib\\site-packages\\sklearn\\utils\\validation.py:63: DataConversionWarning: A column-vector y was passed when a 1d array was expected. Please change the shape of y to (n_samples, ), for example using ravel().\n",
      "  return f(*args, **kwargs)\n",
      "C:\\Users\\user\\anaconda3\\lib\\site-packages\\sklearn\\utils\\validation.py:63: DataConversionWarning: A column-vector y was passed when a 1d array was expected. Please change the shape of y to (n_samples, ), for example using ravel().\n",
      "  return f(*args, **kwargs)\n",
      "C:\\Users\\user\\anaconda3\\lib\\site-packages\\sklearn\\utils\\validation.py:63: DataConversionWarning: A column-vector y was passed when a 1d array was expected. Please change the shape of y to (n_samples, ), for example using ravel().\n",
      "  return f(*args, **kwargs)\n",
      "C:\\Users\\user\\anaconda3\\lib\\site-packages\\sklearn\\utils\\validation.py:63: DataConversionWarning: A column-vector y was passed when a 1d array was expected. Please change the shape of y to (n_samples, ), for example using ravel().\n",
      "  return f(*args, **kwargs)\n",
      "C:\\Users\\user\\anaconda3\\lib\\site-packages\\sklearn\\utils\\validation.py:63: DataConversionWarning: A column-vector y was passed when a 1d array was expected. Please change the shape of y to (n_samples, ), for example using ravel().\n",
      "  return f(*args, **kwargs)\n",
      "C:\\Users\\user\\anaconda3\\lib\\site-packages\\sklearn\\utils\\validation.py:63: DataConversionWarning: A column-vector y was passed when a 1d array was expected. Please change the shape of y to (n_samples, ), for example using ravel().\n",
      "  return f(*args, **kwargs)\n",
      "C:\\Users\\user\\anaconda3\\lib\\site-packages\\sklearn\\utils\\validation.py:63: DataConversionWarning: A column-vector y was passed when a 1d array was expected. Please change the shape of y to (n_samples, ), for example using ravel().\n",
      "  return f(*args, **kwargs)\n",
      "C:\\Users\\user\\anaconda3\\lib\\site-packages\\sklearn\\utils\\validation.py:63: DataConversionWarning: A column-vector y was passed when a 1d array was expected. Please change the shape of y to (n_samples, ), for example using ravel().\n",
      "  return f(*args, **kwargs)\n",
      "C:\\Users\\user\\anaconda3\\lib\\site-packages\\sklearn\\utils\\validation.py:63: DataConversionWarning: A column-vector y was passed when a 1d array was expected. Please change the shape of y to (n_samples, ), for example using ravel().\n",
      "  return f(*args, **kwargs)\n",
      "C:\\Users\\user\\anaconda3\\lib\\site-packages\\sklearn\\utils\\validation.py:63: DataConversionWarning: A column-vector y was passed when a 1d array was expected. Please change the shape of y to (n_samples, ), for example using ravel().\n",
      "  return f(*args, **kwargs)\n",
      "C:\\Users\\user\\anaconda3\\lib\\site-packages\\sklearn\\utils\\validation.py:63: DataConversionWarning: A column-vector y was passed when a 1d array was expected. Please change the shape of y to (n_samples, ), for example using ravel().\n",
      "  return f(*args, **kwargs)\n",
      "C:\\Users\\user\\anaconda3\\lib\\site-packages\\sklearn\\utils\\validation.py:63: DataConversionWarning: A column-vector y was passed when a 1d array was expected. Please change the shape of y to (n_samples, ), for example using ravel().\n",
      "  return f(*args, **kwargs)\n",
      "C:\\Users\\user\\anaconda3\\lib\\site-packages\\sklearn\\utils\\validation.py:63: DataConversionWarning: A column-vector y was passed when a 1d array was expected. Please change the shape of y to (n_samples, ), for example using ravel().\n",
      "  return f(*args, **kwargs)\n",
      "C:\\Users\\user\\anaconda3\\lib\\site-packages\\sklearn\\utils\\validation.py:63: DataConversionWarning: A column-vector y was passed when a 1d array was expected. Please change the shape of y to (n_samples, ), for example using ravel().\n",
      "  return f(*args, **kwargs)\n",
      "C:\\Users\\user\\anaconda3\\lib\\site-packages\\sklearn\\utils\\validation.py:63: DataConversionWarning: A column-vector y was passed when a 1d array was expected. Please change the shape of y to (n_samples, ), for example using ravel().\n",
      "  return f(*args, **kwargs)\n",
      "C:\\Users\\user\\anaconda3\\lib\\site-packages\\sklearn\\utils\\validation.py:63: DataConversionWarning: A column-vector y was passed when a 1d array was expected. Please change the shape of y to (n_samples, ), for example using ravel().\n",
      "  return f(*args, **kwargs)\n",
      "C:\\Users\\user\\anaconda3\\lib\\site-packages\\sklearn\\utils\\validation.py:63: DataConversionWarning: A column-vector y was passed when a 1d array was expected. Please change the shape of y to (n_samples, ), for example using ravel().\n",
      "  return f(*args, **kwargs)\n",
      "C:\\Users\\user\\anaconda3\\lib\\site-packages\\sklearn\\utils\\validation.py:63: DataConversionWarning: A column-vector y was passed when a 1d array was expected. Please change the shape of y to (n_samples, ), for example using ravel().\n",
      "  return f(*args, **kwargs)\n",
      "C:\\Users\\user\\anaconda3\\lib\\site-packages\\sklearn\\utils\\validation.py:63: DataConversionWarning: A column-vector y was passed when a 1d array was expected. Please change the shape of y to (n_samples, ), for example using ravel().\n",
      "  return f(*args, **kwargs)\n",
      "C:\\Users\\user\\anaconda3\\lib\\site-packages\\sklearn\\utils\\validation.py:63: DataConversionWarning: A column-vector y was passed when a 1d array was expected. Please change the shape of y to (n_samples, ), for example using ravel().\n",
      "  return f(*args, **kwargs)\n",
      "C:\\Users\\user\\anaconda3\\lib\\site-packages\\sklearn\\utils\\validation.py:63: DataConversionWarning: A column-vector y was passed when a 1d array was expected. Please change the shape of y to (n_samples, ), for example using ravel().\n",
      "  return f(*args, **kwargs)\n",
      "C:\\Users\\user\\anaconda3\\lib\\site-packages\\sklearn\\utils\\validation.py:63: DataConversionWarning: A column-vector y was passed when a 1d array was expected. Please change the shape of y to (n_samples, ), for example using ravel().\n",
      "  return f(*args, **kwargs)\n",
      "C:\\Users\\user\\anaconda3\\lib\\site-packages\\sklearn\\utils\\validation.py:63: DataConversionWarning: A column-vector y was passed when a 1d array was expected. Please change the shape of y to (n_samples, ), for example using ravel().\n",
      "  return f(*args, **kwargs)\n",
      "C:\\Users\\user\\anaconda3\\lib\\site-packages\\sklearn\\utils\\validation.py:63: DataConversionWarning: A column-vector y was passed when a 1d array was expected. Please change the shape of y to (n_samples, ), for example using ravel().\n",
      "  return f(*args, **kwargs)\n",
      "C:\\Users\\user\\anaconda3\\lib\\site-packages\\sklearn\\utils\\validation.py:63: DataConversionWarning: A column-vector y was passed when a 1d array was expected. Please change the shape of y to (n_samples, ), for example using ravel().\n",
      "  return f(*args, **kwargs)\n",
      "C:\\Users\\user\\anaconda3\\lib\\site-packages\\sklearn\\utils\\validation.py:63: DataConversionWarning: A column-vector y was passed when a 1d array was expected. Please change the shape of y to (n_samples, ), for example using ravel().\n",
      "  return f(*args, **kwargs)\n",
      "C:\\Users\\user\\anaconda3\\lib\\site-packages\\sklearn\\utils\\validation.py:63: DataConversionWarning: A column-vector y was passed when a 1d array was expected. Please change the shape of y to (n_samples, ), for example using ravel().\n",
      "  return f(*args, **kwargs)\n",
      "C:\\Users\\user\\anaconda3\\lib\\site-packages\\sklearn\\utils\\validation.py:63: DataConversionWarning: A column-vector y was passed when a 1d array was expected. Please change the shape of y to (n_samples, ), for example using ravel().\n",
      "  return f(*args, **kwargs)\n",
      "C:\\Users\\user\\anaconda3\\lib\\site-packages\\sklearn\\utils\\validation.py:63: DataConversionWarning: A column-vector y was passed when a 1d array was expected. Please change the shape of y to (n_samples, ), for example using ravel().\n",
      "  return f(*args, **kwargs)\n"
     ]
    },
    {
     "name": "stderr",
     "output_type": "stream",
     "text": [
      "C:\\Users\\user\\anaconda3\\lib\\site-packages\\sklearn\\utils\\validation.py:63: DataConversionWarning: A column-vector y was passed when a 1d array was expected. Please change the shape of y to (n_samples, ), for example using ravel().\n",
      "  return f(*args, **kwargs)\n",
      "C:\\Users\\user\\anaconda3\\lib\\site-packages\\sklearn\\utils\\validation.py:63: DataConversionWarning: A column-vector y was passed when a 1d array was expected. Please change the shape of y to (n_samples, ), for example using ravel().\n",
      "  return f(*args, **kwargs)\n",
      "C:\\Users\\user\\anaconda3\\lib\\site-packages\\sklearn\\utils\\validation.py:63: DataConversionWarning: A column-vector y was passed when a 1d array was expected. Please change the shape of y to (n_samples, ), for example using ravel().\n",
      "  return f(*args, **kwargs)\n",
      "C:\\Users\\user\\anaconda3\\lib\\site-packages\\sklearn\\utils\\validation.py:63: DataConversionWarning: A column-vector y was passed when a 1d array was expected. Please change the shape of y to (n_samples, ), for example using ravel().\n",
      "  return f(*args, **kwargs)\n",
      "C:\\Users\\user\\anaconda3\\lib\\site-packages\\sklearn\\utils\\validation.py:63: DataConversionWarning: A column-vector y was passed when a 1d array was expected. Please change the shape of y to (n_samples, ), for example using ravel().\n",
      "  return f(*args, **kwargs)\n",
      "C:\\Users\\user\\anaconda3\\lib\\site-packages\\sklearn\\utils\\validation.py:63: DataConversionWarning: A column-vector y was passed when a 1d array was expected. Please change the shape of y to (n_samples, ), for example using ravel().\n",
      "  return f(*args, **kwargs)\n",
      "C:\\Users\\user\\anaconda3\\lib\\site-packages\\sklearn\\utils\\validation.py:63: DataConversionWarning: A column-vector y was passed when a 1d array was expected. Please change the shape of y to (n_samples, ), for example using ravel().\n",
      "  return f(*args, **kwargs)\n",
      "C:\\Users\\user\\anaconda3\\lib\\site-packages\\sklearn\\utils\\validation.py:63: DataConversionWarning: A column-vector y was passed when a 1d array was expected. Please change the shape of y to (n_samples, ), for example using ravel().\n",
      "  return f(*args, **kwargs)\n",
      "C:\\Users\\user\\anaconda3\\lib\\site-packages\\sklearn\\utils\\validation.py:63: DataConversionWarning: A column-vector y was passed when a 1d array was expected. Please change the shape of y to (n_samples, ), for example using ravel().\n",
      "  return f(*args, **kwargs)\n",
      "C:\\Users\\user\\anaconda3\\lib\\site-packages\\sklearn\\utils\\validation.py:63: DataConversionWarning: A column-vector y was passed when a 1d array was expected. Please change the shape of y to (n_samples, ), for example using ravel().\n",
      "  return f(*args, **kwargs)\n",
      "C:\\Users\\user\\anaconda3\\lib\\site-packages\\sklearn\\utils\\validation.py:63: DataConversionWarning: A column-vector y was passed when a 1d array was expected. Please change the shape of y to (n_samples, ), for example using ravel().\n",
      "  return f(*args, **kwargs)\n",
      "C:\\Users\\user\\anaconda3\\lib\\site-packages\\sklearn\\utils\\validation.py:63: DataConversionWarning: A column-vector y was passed when a 1d array was expected. Please change the shape of y to (n_samples, ), for example using ravel().\n",
      "  return f(*args, **kwargs)\n",
      "C:\\Users\\user\\anaconda3\\lib\\site-packages\\sklearn\\utils\\validation.py:63: DataConversionWarning: A column-vector y was passed when a 1d array was expected. Please change the shape of y to (n_samples, ), for example using ravel().\n",
      "  return f(*args, **kwargs)\n",
      "C:\\Users\\user\\anaconda3\\lib\\site-packages\\sklearn\\utils\\validation.py:63: DataConversionWarning: A column-vector y was passed when a 1d array was expected. Please change the shape of y to (n_samples, ), for example using ravel().\n",
      "  return f(*args, **kwargs)\n",
      "C:\\Users\\user\\anaconda3\\lib\\site-packages\\sklearn\\utils\\validation.py:63: DataConversionWarning: A column-vector y was passed when a 1d array was expected. Please change the shape of y to (n_samples, ), for example using ravel().\n",
      "  return f(*args, **kwargs)\n",
      "C:\\Users\\user\\anaconda3\\lib\\site-packages\\sklearn\\utils\\validation.py:63: DataConversionWarning: A column-vector y was passed when a 1d array was expected. Please change the shape of y to (n_samples, ), for example using ravel().\n",
      "  return f(*args, **kwargs)\n",
      "C:\\Users\\user\\anaconda3\\lib\\site-packages\\sklearn\\utils\\validation.py:63: DataConversionWarning: A column-vector y was passed when a 1d array was expected. Please change the shape of y to (n_samples, ), for example using ravel().\n",
      "  return f(*args, **kwargs)\n",
      "C:\\Users\\user\\anaconda3\\lib\\site-packages\\sklearn\\utils\\validation.py:63: DataConversionWarning: A column-vector y was passed when a 1d array was expected. Please change the shape of y to (n_samples, ), for example using ravel().\n",
      "  return f(*args, **kwargs)\n",
      "C:\\Users\\user\\anaconda3\\lib\\site-packages\\sklearn\\utils\\validation.py:63: DataConversionWarning: A column-vector y was passed when a 1d array was expected. Please change the shape of y to (n_samples, ), for example using ravel().\n",
      "  return f(*args, **kwargs)\n",
      "C:\\Users\\user\\anaconda3\\lib\\site-packages\\sklearn\\utils\\validation.py:63: DataConversionWarning: A column-vector y was passed when a 1d array was expected. Please change the shape of y to (n_samples, ), for example using ravel().\n",
      "  return f(*args, **kwargs)\n",
      "C:\\Users\\user\\anaconda3\\lib\\site-packages\\sklearn\\utils\\validation.py:63: DataConversionWarning: A column-vector y was passed when a 1d array was expected. Please change the shape of y to (n_samples, ), for example using ravel().\n",
      "  return f(*args, **kwargs)\n",
      "C:\\Users\\user\\anaconda3\\lib\\site-packages\\sklearn\\utils\\validation.py:63: DataConversionWarning: A column-vector y was passed when a 1d array was expected. Please change the shape of y to (n_samples, ), for example using ravel().\n",
      "  return f(*args, **kwargs)\n",
      "C:\\Users\\user\\anaconda3\\lib\\site-packages\\sklearn\\utils\\validation.py:63: DataConversionWarning: A column-vector y was passed when a 1d array was expected. Please change the shape of y to (n_samples, ), for example using ravel().\n",
      "  return f(*args, **kwargs)\n",
      "C:\\Users\\user\\anaconda3\\lib\\site-packages\\sklearn\\utils\\validation.py:63: DataConversionWarning: A column-vector y was passed when a 1d array was expected. Please change the shape of y to (n_samples, ), for example using ravel().\n",
      "  return f(*args, **kwargs)\n",
      "C:\\Users\\user\\anaconda3\\lib\\site-packages\\sklearn\\utils\\validation.py:63: DataConversionWarning: A column-vector y was passed when a 1d array was expected. Please change the shape of y to (n_samples, ), for example using ravel().\n",
      "  return f(*args, **kwargs)\n",
      "C:\\Users\\user\\anaconda3\\lib\\site-packages\\sklearn\\utils\\validation.py:63: DataConversionWarning: A column-vector y was passed when a 1d array was expected. Please change the shape of y to (n_samples, ), for example using ravel().\n",
      "  return f(*args, **kwargs)\n",
      "C:\\Users\\user\\anaconda3\\lib\\site-packages\\sklearn\\utils\\validation.py:63: DataConversionWarning: A column-vector y was passed when a 1d array was expected. Please change the shape of y to (n_samples, ), for example using ravel().\n",
      "  return f(*args, **kwargs)\n",
      "C:\\Users\\user\\anaconda3\\lib\\site-packages\\sklearn\\utils\\validation.py:63: DataConversionWarning: A column-vector y was passed when a 1d array was expected. Please change the shape of y to (n_samples, ), for example using ravel().\n",
      "  return f(*args, **kwargs)\n",
      "C:\\Users\\user\\anaconda3\\lib\\site-packages\\sklearn\\utils\\validation.py:63: DataConversionWarning: A column-vector y was passed when a 1d array was expected. Please change the shape of y to (n_samples, ), for example using ravel().\n",
      "  return f(*args, **kwargs)\n",
      "C:\\Users\\user\\anaconda3\\lib\\site-packages\\sklearn\\utils\\validation.py:63: DataConversionWarning: A column-vector y was passed when a 1d array was expected. Please change the shape of y to (n_samples, ), for example using ravel().\n",
      "  return f(*args, **kwargs)\n",
      "C:\\Users\\user\\anaconda3\\lib\\site-packages\\sklearn\\utils\\validation.py:63: DataConversionWarning: A column-vector y was passed when a 1d array was expected. Please change the shape of y to (n_samples, ), for example using ravel().\n",
      "  return f(*args, **kwargs)\n",
      "C:\\Users\\user\\anaconda3\\lib\\site-packages\\sklearn\\utils\\validation.py:63: DataConversionWarning: A column-vector y was passed when a 1d array was expected. Please change the shape of y to (n_samples, ), for example using ravel().\n",
      "  return f(*args, **kwargs)\n",
      "C:\\Users\\user\\anaconda3\\lib\\site-packages\\sklearn\\utils\\validation.py:63: DataConversionWarning: A column-vector y was passed when a 1d array was expected. Please change the shape of y to (n_samples, ), for example using ravel().\n",
      "  return f(*args, **kwargs)\n",
      "C:\\Users\\user\\anaconda3\\lib\\site-packages\\sklearn\\utils\\validation.py:63: DataConversionWarning: A column-vector y was passed when a 1d array was expected. Please change the shape of y to (n_samples, ), for example using ravel().\n",
      "  return f(*args, **kwargs)\n",
      "C:\\Users\\user\\anaconda3\\lib\\site-packages\\sklearn\\utils\\validation.py:63: DataConversionWarning: A column-vector y was passed when a 1d array was expected. Please change the shape of y to (n_samples, ), for example using ravel().\n",
      "  return f(*args, **kwargs)\n",
      "C:\\Users\\user\\anaconda3\\lib\\site-packages\\sklearn\\utils\\validation.py:63: DataConversionWarning: A column-vector y was passed when a 1d array was expected. Please change the shape of y to (n_samples, ), for example using ravel().\n",
      "  return f(*args, **kwargs)\n",
      "C:\\Users\\user\\anaconda3\\lib\\site-packages\\sklearn\\utils\\validation.py:63: DataConversionWarning: A column-vector y was passed when a 1d array was expected. Please change the shape of y to (n_samples, ), for example using ravel().\n",
      "  return f(*args, **kwargs)\n"
     ]
    },
    {
     "name": "stderr",
     "output_type": "stream",
     "text": [
      "C:\\Users\\user\\anaconda3\\lib\\site-packages\\sklearn\\utils\\validation.py:63: DataConversionWarning: A column-vector y was passed when a 1d array was expected. Please change the shape of y to (n_samples, ), for example using ravel().\n",
      "  return f(*args, **kwargs)\n",
      "C:\\Users\\user\\anaconda3\\lib\\site-packages\\sklearn\\utils\\validation.py:63: DataConversionWarning: A column-vector y was passed when a 1d array was expected. Please change the shape of y to (n_samples, ), for example using ravel().\n",
      "  return f(*args, **kwargs)\n",
      "C:\\Users\\user\\anaconda3\\lib\\site-packages\\sklearn\\utils\\validation.py:63: DataConversionWarning: A column-vector y was passed when a 1d array was expected. Please change the shape of y to (n_samples, ), for example using ravel().\n",
      "  return f(*args, **kwargs)\n",
      "C:\\Users\\user\\anaconda3\\lib\\site-packages\\sklearn\\utils\\validation.py:63: DataConversionWarning: A column-vector y was passed when a 1d array was expected. Please change the shape of y to (n_samples, ), for example using ravel().\n",
      "  return f(*args, **kwargs)\n",
      "C:\\Users\\user\\anaconda3\\lib\\site-packages\\sklearn\\utils\\validation.py:63: DataConversionWarning: A column-vector y was passed when a 1d array was expected. Please change the shape of y to (n_samples, ), for example using ravel().\n",
      "  return f(*args, **kwargs)\n",
      "C:\\Users\\user\\anaconda3\\lib\\site-packages\\sklearn\\utils\\validation.py:63: DataConversionWarning: A column-vector y was passed when a 1d array was expected. Please change the shape of y to (n_samples, ), for example using ravel().\n",
      "  return f(*args, **kwargs)\n",
      "C:\\Users\\user\\anaconda3\\lib\\site-packages\\sklearn\\utils\\validation.py:63: DataConversionWarning: A column-vector y was passed when a 1d array was expected. Please change the shape of y to (n_samples, ), for example using ravel().\n",
      "  return f(*args, **kwargs)\n",
      "C:\\Users\\user\\anaconda3\\lib\\site-packages\\sklearn\\utils\\validation.py:63: DataConversionWarning: A column-vector y was passed when a 1d array was expected. Please change the shape of y to (n_samples, ), for example using ravel().\n",
      "  return f(*args, **kwargs)\n",
      "C:\\Users\\user\\anaconda3\\lib\\site-packages\\sklearn\\utils\\validation.py:63: DataConversionWarning: A column-vector y was passed when a 1d array was expected. Please change the shape of y to (n_samples, ), for example using ravel().\n",
      "  return f(*args, **kwargs)\n",
      "C:\\Users\\user\\anaconda3\\lib\\site-packages\\sklearn\\utils\\validation.py:63: DataConversionWarning: A column-vector y was passed when a 1d array was expected. Please change the shape of y to (n_samples, ), for example using ravel().\n",
      "  return f(*args, **kwargs)\n",
      "C:\\Users\\user\\anaconda3\\lib\\site-packages\\sklearn\\utils\\validation.py:63: DataConversionWarning: A column-vector y was passed when a 1d array was expected. Please change the shape of y to (n_samples, ), for example using ravel().\n",
      "  return f(*args, **kwargs)\n",
      "C:\\Users\\user\\anaconda3\\lib\\site-packages\\sklearn\\utils\\validation.py:63: DataConversionWarning: A column-vector y was passed when a 1d array was expected. Please change the shape of y to (n_samples, ), for example using ravel().\n",
      "  return f(*args, **kwargs)\n",
      "C:\\Users\\user\\anaconda3\\lib\\site-packages\\sklearn\\utils\\validation.py:63: DataConversionWarning: A column-vector y was passed when a 1d array was expected. Please change the shape of y to (n_samples, ), for example using ravel().\n",
      "  return f(*args, **kwargs)\n",
      "C:\\Users\\user\\anaconda3\\lib\\site-packages\\sklearn\\utils\\validation.py:63: DataConversionWarning: A column-vector y was passed when a 1d array was expected. Please change the shape of y to (n_samples, ), for example using ravel().\n",
      "  return f(*args, **kwargs)\n",
      "C:\\Users\\user\\anaconda3\\lib\\site-packages\\sklearn\\utils\\validation.py:63: DataConversionWarning: A column-vector y was passed when a 1d array was expected. Please change the shape of y to (n_samples, ), for example using ravel().\n",
      "  return f(*args, **kwargs)\n",
      "C:\\Users\\user\\anaconda3\\lib\\site-packages\\sklearn\\utils\\validation.py:63: DataConversionWarning: A column-vector y was passed when a 1d array was expected. Please change the shape of y to (n_samples, ), for example using ravel().\n",
      "  return f(*args, **kwargs)\n",
      "C:\\Users\\user\\anaconda3\\lib\\site-packages\\sklearn\\utils\\validation.py:63: DataConversionWarning: A column-vector y was passed when a 1d array was expected. Please change the shape of y to (n_samples, ), for example using ravel().\n",
      "  return f(*args, **kwargs)\n",
      "C:\\Users\\user\\anaconda3\\lib\\site-packages\\sklearn\\utils\\validation.py:63: DataConversionWarning: A column-vector y was passed when a 1d array was expected. Please change the shape of y to (n_samples, ), for example using ravel().\n",
      "  return f(*args, **kwargs)\n",
      "C:\\Users\\user\\anaconda3\\lib\\site-packages\\sklearn\\utils\\validation.py:63: DataConversionWarning: A column-vector y was passed when a 1d array was expected. Please change the shape of y to (n_samples, ), for example using ravel().\n",
      "  return f(*args, **kwargs)\n",
      "C:\\Users\\user\\anaconda3\\lib\\site-packages\\sklearn\\utils\\validation.py:63: DataConversionWarning: A column-vector y was passed when a 1d array was expected. Please change the shape of y to (n_samples, ), for example using ravel().\n",
      "  return f(*args, **kwargs)\n",
      "C:\\Users\\user\\anaconda3\\lib\\site-packages\\sklearn\\utils\\validation.py:63: DataConversionWarning: A column-vector y was passed when a 1d array was expected. Please change the shape of y to (n_samples, ), for example using ravel().\n",
      "  return f(*args, **kwargs)\n",
      "C:\\Users\\user\\anaconda3\\lib\\site-packages\\sklearn\\utils\\validation.py:63: DataConversionWarning: A column-vector y was passed when a 1d array was expected. Please change the shape of y to (n_samples, ), for example using ravel().\n",
      "  return f(*args, **kwargs)\n",
      "C:\\Users\\user\\anaconda3\\lib\\site-packages\\sklearn\\utils\\validation.py:63: DataConversionWarning: A column-vector y was passed when a 1d array was expected. Please change the shape of y to (n_samples, ), for example using ravel().\n",
      "  return f(*args, **kwargs)\n",
      "C:\\Users\\user\\anaconda3\\lib\\site-packages\\sklearn\\utils\\validation.py:63: DataConversionWarning: A column-vector y was passed when a 1d array was expected. Please change the shape of y to (n_samples, ), for example using ravel().\n",
      "  return f(*args, **kwargs)\n",
      "C:\\Users\\user\\anaconda3\\lib\\site-packages\\sklearn\\utils\\validation.py:63: DataConversionWarning: A column-vector y was passed when a 1d array was expected. Please change the shape of y to (n_samples, ), for example using ravel().\n",
      "  return f(*args, **kwargs)\n",
      "C:\\Users\\user\\anaconda3\\lib\\site-packages\\sklearn\\utils\\validation.py:63: DataConversionWarning: A column-vector y was passed when a 1d array was expected. Please change the shape of y to (n_samples, ), for example using ravel().\n",
      "  return f(*args, **kwargs)\n",
      "C:\\Users\\user\\anaconda3\\lib\\site-packages\\sklearn\\utils\\validation.py:63: DataConversionWarning: A column-vector y was passed when a 1d array was expected. Please change the shape of y to (n_samples, ), for example using ravel().\n",
      "  return f(*args, **kwargs)\n",
      "C:\\Users\\user\\anaconda3\\lib\\site-packages\\sklearn\\utils\\validation.py:63: DataConversionWarning: A column-vector y was passed when a 1d array was expected. Please change the shape of y to (n_samples, ), for example using ravel().\n",
      "  return f(*args, **kwargs)\n",
      "C:\\Users\\user\\anaconda3\\lib\\site-packages\\sklearn\\utils\\validation.py:63: DataConversionWarning: A column-vector y was passed when a 1d array was expected. Please change the shape of y to (n_samples, ), for example using ravel().\n",
      "  return f(*args, **kwargs)\n",
      "C:\\Users\\user\\anaconda3\\lib\\site-packages\\sklearn\\utils\\validation.py:63: DataConversionWarning: A column-vector y was passed when a 1d array was expected. Please change the shape of y to (n_samples, ), for example using ravel().\n",
      "  return f(*args, **kwargs)\n"
     ]
    }
   ],
   "source": [
    "# 부분 f검정을 실시하여 가장 중요한 변수들만 남기는 최적화 진행.\n",
    "r2_scores = []\n",
    "for i in range(1, feature_size + 1):\n",
    "    temp_x0_c_poly = SelectKBest(f_classif, k=i).fit_transform(X0_c_poly, y_c)\n",
    "    train_x0_c_poly, test_x0_c_poly, train_y_c, test_y_c = train_test_split(temp_x0_c_poly, y_c, test_size=0.3, random_state=0)\n",
    "    model = LinearRegression().fit(train_x0_c_poly, train_y_c)\n",
    "    pred_y = model.predict(test_x0_c_poly)\n",
    "    r2_scores.append(r2_score(test_y_c, pred_y))"
   ]
  },
  {
   "cell_type": "code",
   "execution_count": 223,
   "id": "c6f89cef",
   "metadata": {},
   "outputs": [
    {
     "data": {
      "image/png": "[encoded data removed]",
      "text/plain": [
       "<Figure size 1440x360 with 1 Axes>"
      ]
     },
     "metadata": {
      "needs_background": "light"
     },
     "output_type": "display_data"
    }
   ],
   "source": [
    "plt.figure(figsize=(20, 5))\n",
    "plt.plot(range(1, feature_size + 1), r2_scores)\n",
    "plt.title('r2 score by K')\n",
    "plt.xlabel('K')\n",
    "plt.ylabel('r2 score')\n",
    "plt.show()"
   ]
  },
  {
   "cell_type": "code",
   "execution_count": 212,
   "id": "1c62d7c9",
   "metadata": {},
   "outputs": [
    {
     "data": {
      "text/plain": [
       "(array([27, 28, 43, 44, 52, 53, 54], dtype=int64),)"
      ]
     },
     "execution_count": 212,
     "metadata": {},
     "output_type": "execute_result"
    }
   ],
   "source": [
    "np.where(np.array(r2_scores) > 0.86)"
   ]
  },
  {
   "cell_type": "code",
   "execution_count": 219,
   "id": "9fde8f2d",
   "metadata": {},
   "outputs": [
    {
     "name": "stderr",
     "output_type": "stream",
     "text": [
      "C:\\Users\\user\\anaconda3\\lib\\site-packages\\sklearn\\utils\\validation.py:63: DataConversionWarning: A column-vector y was passed when a 1d array was expected. Please change the shape of y to (n_samples, ), for example using ravel().\n",
      "  return f(*args, **kwargs)\n"
     ]
    }
   ],
   "source": [
    "selector = SelectKBest(f_classif, k=27)\n",
    "X0_c_poly_k = selector.fit_transform(X0_c_poly, y_c)\n",
    "selected_features = X0_c_poly.columns[selector.get_support()]"
   ]
  },
  {
   "cell_type": "code",
   "execution_count": 220,
   "id": "66af092f",
   "metadata": {},
   "outputs": [
    {
     "data": {
      "text/html": [
       "<div>\n",
       "<style scoped>\n",
       "    .dataframe tbody tr th:only-of-type {\n",
       "        vertical-align: middle;\n",
       "    }\n",
       "\n",
       "    .dataframe tbody tr th {\n",
       "        vertical-align: top;\n",
       "    }\n",
       "\n",
       "    .dataframe thead th {\n",
       "        text-align: right;\n",
       "    }\n",
       "</style>\n",
       "<table border=\"1\" class=\"dataframe\">\n",
       "  <thead>\n",
       "    <tr style=\"text-align: right;\">\n",
       "      <th></th>\n",
       "      <th>CRIM</th>\n",
       "      <th>INDUS</th>\n",
       "      <th>RM</th>\n",
       "      <th>TAX</th>\n",
       "      <th>LSTAT</th>\n",
       "      <th>CRIM INDUS</th>\n",
       "      <th>CRIM NOX</th>\n",
       "      <th>CRIM RM</th>\n",
       "      <th>CRIM AGE</th>\n",
       "      <th>CRIM DIS</th>\n",
       "      <th>...</th>\n",
       "      <th>INDUS RM</th>\n",
       "      <th>INDUS LSTAT</th>\n",
       "      <th>RM^2</th>\n",
       "      <th>RM RAD</th>\n",
       "      <th>RM TAX</th>\n",
       "      <th>RM PTRATIO</th>\n",
       "      <th>RAD LSTAT</th>\n",
       "      <th>TAX LSTAT</th>\n",
       "      <th>PTRATIO^2</th>\n",
       "      <th>LSTAT^2</th>\n",
       "    </tr>\n",
       "  </thead>\n",
       "  <tbody>\n",
       "    <tr>\n",
       "      <th>0</th>\n",
       "      <td>-0.433807</td>\n",
       "      <td>-1.270495</td>\n",
       "      <td>0.527069</td>\n",
       "      <td>-0.647915</td>\n",
       "      <td>-1.145575</td>\n",
       "      <td>0.551150</td>\n",
       "      <td>0.051645</td>\n",
       "      <td>-0.228646</td>\n",
       "      <td>0.041894</td>\n",
       "      <td>-0.045932</td>\n",
       "      <td>...</td>\n",
       "      <td>-0.669638</td>\n",
       "      <td>1.455448</td>\n",
       "      <td>0.277801</td>\n",
       "      <td>-0.509195</td>\n",
       "      <td>-0.341496</td>\n",
       "      <td>-0.785791</td>\n",
       "      <td>1.106728</td>\n",
       "      <td>0.742235</td>\n",
       "      <td>2.222694</td>\n",
       "      <td>1.312343</td>\n",
       "    </tr>\n",
       "    <tr>\n",
       "      <th>1</th>\n",
       "      <td>-0.431030</td>\n",
       "      <td>-0.572187</td>\n",
       "      <td>0.269663</td>\n",
       "      <td>-0.971684</td>\n",
       "      <td>-0.528718</td>\n",
       "      <td>0.246630</td>\n",
       "      <td>0.307500</td>\n",
       "      <td>-0.116233</td>\n",
       "      <td>-0.169425</td>\n",
       "      <td>-0.226926</td>\n",
       "      <td>...</td>\n",
       "      <td>-0.154298</td>\n",
       "      <td>0.302525</td>\n",
       "      <td>0.072718</td>\n",
       "      <td>-0.229130</td>\n",
       "      <td>-0.262027</td>\n",
       "      <td>-0.085873</td>\n",
       "      <td>0.449246</td>\n",
       "      <td>0.513746</td>\n",
       "      <td>0.101408</td>\n",
       "      <td>0.279542</td>\n",
       "    </tr>\n",
       "    <tr>\n",
       "      <th>2</th>\n",
       "      <td>-0.431033</td>\n",
       "      <td>-0.572187</td>\n",
       "      <td>1.546662</td>\n",
       "      <td>-0.971684</td>\n",
       "      <td>-1.286444</td>\n",
       "      <td>0.246631</td>\n",
       "      <td>0.307502</td>\n",
       "      <td>-0.666662</td>\n",
       "      <td>0.104788</td>\n",
       "      <td>-0.226927</td>\n",
       "      <td>...</td>\n",
       "      <td>-0.884979</td>\n",
       "      <td>0.736086</td>\n",
       "      <td>2.392165</td>\n",
       "      <td>-1.314183</td>\n",
       "      <td>-1.502867</td>\n",
       "      <td>-0.492530</td>\n",
       "      <td>1.093078</td>\n",
       "      <td>1.250017</td>\n",
       "      <td>0.101408</td>\n",
       "      <td>1.654938</td>\n",
       "    </tr>\n",
       "    <tr>\n",
       "      <th>3</th>\n",
       "      <td>-0.430360</td>\n",
       "      <td>-1.289566</td>\n",
       "      <td>1.234098</td>\n",
       "      <td>-1.091598</td>\n",
       "      <td>-1.448073</td>\n",
       "      <td>0.554978</td>\n",
       "      <td>0.347800</td>\n",
       "      <td>-0.531107</td>\n",
       "      <td>0.339958</td>\n",
       "      <td>-0.452567</td>\n",
       "      <td>...</td>\n",
       "      <td>-1.591452</td>\n",
       "      <td>1.867386</td>\n",
       "      <td>1.522999</td>\n",
       "      <td>-0.904953</td>\n",
       "      <td>-1.347140</td>\n",
       "      <td>0.127884</td>\n",
       "      <td>1.061858</td>\n",
       "      <td>1.580713</td>\n",
       "      <td>0.010738</td>\n",
       "      <td>2.096914</td>\n",
       "    </tr>\n",
       "    <tr>\n",
       "      <th>4</th>\n",
       "      <td>-0.425507</td>\n",
       "      <td>-1.289566</td>\n",
       "      <td>1.483147</td>\n",
       "      <td>-1.091598</td>\n",
       "      <td>-1.093676</td>\n",
       "      <td>0.548719</td>\n",
       "      <td>0.343877</td>\n",
       "      <td>-0.631089</td>\n",
       "      <td>0.208378</td>\n",
       "      <td>-0.447463</td>\n",
       "      <td>...</td>\n",
       "      <td>-1.912616</td>\n",
       "      <td>1.410368</td>\n",
       "      <td>2.199724</td>\n",
       "      <td>-1.087578</td>\n",
       "      <td>-1.619000</td>\n",
       "      <td>0.153692</td>\n",
       "      <td>0.801982</td>\n",
       "      <td>1.193855</td>\n",
       "      <td>0.010738</td>\n",
       "      <td>1.196127</td>\n",
       "    </tr>\n",
       "  </tbody>\n",
       "</table>\n",
       "<p>5 rows × 27 columns</p>\n",
       "</div>"
      ],
      "text/plain": [
       "       CRIM     INDUS        RM       TAX     LSTAT  CRIM INDUS  CRIM NOX  \\\n",
       "0 -0.433807 -1.270495  0.527069 -0.647915 -1.145575    0.551150  0.051645   \n",
       "1 -0.431030 -0.572187  0.269663 -0.971684 -0.528718    0.246630  0.307500   \n",
       "2 -0.431033 -0.572187  1.546662 -0.971684 -1.286444    0.246631  0.307502   \n",
       "3 -0.430360 -1.289566  1.234098 -1.091598 -1.448073    0.554978  0.347800   \n",
       "4 -0.425507 -1.289566  1.483147 -1.091598 -1.093676    0.548719  0.343877   \n",
       "\n",
       "    CRIM RM  CRIM AGE  CRIM DIS  ...  INDUS RM  INDUS LSTAT      RM^2  \\\n",
       "0 -0.228646  0.041894 -0.045932  ... -0.669638     1.455448  0.277801   \n",
       "1 -0.116233 -0.169425 -0.226926  ... -0.154298     0.302525  0.072718   \n",
       "2 -0.666662  0.104788 -0.226927  ... -0.884979     0.736086  2.392165   \n",
       "3 -0.531107  0.339958 -0.452567  ... -1.591452     1.867386  1.522999   \n",
       "4 -0.631089  0.208378 -0.447463  ... -1.912616     1.410368  2.199724   \n",
       "\n",
       "     RM RAD    RM TAX  RM PTRATIO  RAD LSTAT  TAX LSTAT  PTRATIO^2   LSTAT^2  \n",
       "0 -0.509195 -0.341496   -0.785791   1.106728   0.742235   2.222694  1.312343  \n",
       "1 -0.229130 -0.262027   -0.085873   0.449246   0.513746   0.101408  0.279542  \n",
       "2 -1.314183 -1.502867   -0.492530   1.093078   1.250017   0.101408  1.654938  \n",
       "3 -0.904953 -1.347140    0.127884   1.061858   1.580713   0.010738  2.096914  \n",
       "4 -1.087578 -1.619000    0.153692   0.801982   1.193855   0.010738  1.196127  \n",
       "\n",
       "[5 rows x 27 columns]"
      ]
     },
     "execution_count": 220,
     "metadata": {},
     "output_type": "execute_result"
    }
   ],
   "source": [
    "X0_c_poly_k = pd.DataFrame(X0_c_poly_k, columns=selected_features)\n",
    "X0_c_poly_k.head()"
   ]
  },
  {
   "cell_type": "markdown",
   "id": "59dcfa13",
   "metadata": {},
   "source": [
    "## Polynomial Regression 2차"
   ]
  },
  {
   "cell_type": "code",
   "execution_count": 226,
   "id": "d8806bf8",
   "metadata": {},
   "outputs": [],
   "source": [
    "model_poly_reg2 = sm.OLS(y_c, sm.add_constant(X0_c_poly_k))\n",
    "rlt_poly_reg2 = model_poly_reg2.fit()"
   ]
  },
  {
   "cell_type": "code",
   "execution_count": 227,
   "id": "b176427c",
   "metadata": {},
   "outputs": [
    {
     "data": {
      "text/html": [
       "<table class=\"simpletable\">\n",
       "<caption>OLS Regression Results</caption>\n",
       "<tr>\n",
       "  <th>Dep. Variable:</th>          <td>MEDV</td>       <th>  R-squared:         </th> <td>   0.892</td> \n",
       "</tr>\n",
       "<tr>\n",
       "  <th>Model:</th>                   <td>OLS</td>       <th>  Adj. R-squared:    </th> <td>   0.886</td> \n",
       "</tr>\n",
       "<tr>\n",
       "  <th>Method:</th>             <td>Least Squares</td>  <th>  F-statistic:       </th> <td>   137.7</td> \n",
       "</tr>\n",
       "<tr>\n",
       "  <th>Date:</th>             <td>Wed, 08 Sep 2021</td> <th>  Prob (F-statistic):</th> <td>3.19e-198</td>\n",
       "</tr>\n",
       "<tr>\n",
       "  <th>Time:</th>                 <td>11:15:48</td>     <th>  Log-Likelihood:    </th> <td> -145.53</td> \n",
       "</tr>\n",
       "<tr>\n",
       "  <th>No. Observations:</th>      <td>   477</td>      <th>  AIC:               </th> <td>   347.1</td> \n",
       "</tr>\n",
       "<tr>\n",
       "  <th>Df Residuals:</th>          <td>   449</td>      <th>  BIC:               </th> <td>   463.8</td> \n",
       "</tr>\n",
       "<tr>\n",
       "  <th>Df Model:</th>              <td>    27</td>      <th>                     </th>     <td> </td>    \n",
       "</tr>\n",
       "<tr>\n",
       "  <th>Covariance Type:</th>      <td>nonrobust</td>    <th>                     </th>     <td> </td>    \n",
       "</tr>\n",
       "</table>\n",
       "<table class=\"simpletable\">\n",
       "<tr>\n",
       "        <td></td>          <th>coef</th>     <th>std err</th>      <th>t</th>      <th>P>|t|</th>  <th>[0.025</th>    <th>0.975]</th>  \n",
       "</tr>\n",
       "<tr>\n",
       "  <th>const</th>        <td>   -0.6600</td> <td>    0.175</td> <td>   -3.778</td> <td> 0.000</td> <td>   -1.003</td> <td>   -0.317</td>\n",
       "</tr>\n",
       "<tr>\n",
       "  <th>CRIM</th>         <td>   -1.6093</td> <td>    0.418</td> <td>   -3.852</td> <td> 0.000</td> <td>   -2.430</td> <td>   -0.788</td>\n",
       "</tr>\n",
       "<tr>\n",
       "  <th>INDUS</th>        <td>    0.4509</td> <td>    0.164</td> <td>    2.750</td> <td> 0.006</td> <td>    0.129</td> <td>    0.773</td>\n",
       "</tr>\n",
       "<tr>\n",
       "  <th>RM</th>           <td>    0.3257</td> <td>    0.027</td> <td>   12.256</td> <td> 0.000</td> <td>    0.274</td> <td>    0.378</td>\n",
       "</tr>\n",
       "<tr>\n",
       "  <th>TAX</th>          <td>    0.0010</td> <td>    0.091</td> <td>    0.011</td> <td> 0.991</td> <td>   -0.178</td> <td>    0.180</td>\n",
       "</tr>\n",
       "<tr>\n",
       "  <th>LSTAT</th>        <td>   -0.3818</td> <td>    0.037</td> <td>  -10.370</td> <td> 0.000</td> <td>   -0.454</td> <td>   -0.309</td>\n",
       "</tr>\n",
       "<tr>\n",
       "  <th>CRIM INDUS</th>   <td>    1.2079</td> <td>    0.413</td> <td>    2.921</td> <td> 0.004</td> <td>    0.395</td> <td>    2.021</td>\n",
       "</tr>\n",
       "<tr>\n",
       "  <th>CRIM NOX</th>     <td>   -0.2055</td> <td>    0.062</td> <td>   -3.327</td> <td> 0.001</td> <td>   -0.327</td> <td>   -0.084</td>\n",
       "</tr>\n",
       "<tr>\n",
       "  <th>CRIM RM</th>      <td>    0.0581</td> <td>    0.042</td> <td>    1.379</td> <td> 0.169</td> <td>   -0.025</td> <td>    0.141</td>\n",
       "</tr>\n",
       "<tr>\n",
       "  <th>CRIM AGE</th>     <td>    0.1992</td> <td>    0.052</td> <td>    3.814</td> <td> 0.000</td> <td>    0.097</td> <td>    0.302</td>\n",
       "</tr>\n",
       "<tr>\n",
       "  <th>CRIM DIS</th>     <td>    0.3660</td> <td>    0.067</td> <td>    5.449</td> <td> 0.000</td> <td>    0.234</td> <td>    0.498</td>\n",
       "</tr>\n",
       "<tr>\n",
       "  <th>CRIM RAD</th>     <td>   -0.4424</td> <td>    0.115</td> <td>   -3.836</td> <td> 0.000</td> <td>   -0.669</td> <td>   -0.216</td>\n",
       "</tr>\n",
       "<tr>\n",
       "  <th>CRIM TAX</th>     <td>    0.6379</td> <td>    0.246</td> <td>    2.597</td> <td> 0.010</td> <td>    0.155</td> <td>    1.121</td>\n",
       "</tr>\n",
       "<tr>\n",
       "  <th>CRIM PTRATIO</th> <td>    0.4033</td> <td>    0.071</td> <td>    5.706</td> <td> 0.000</td> <td>    0.264</td> <td>    0.542</td>\n",
       "</tr>\n",
       "<tr>\n",
       "  <th>CRIM LSTAT</th>   <td>    0.0908</td> <td>    0.035</td> <td>    2.589</td> <td> 0.010</td> <td>    0.022</td> <td>    0.160</td>\n",
       "</tr>\n",
       "<tr>\n",
       "  <th>ZN RM</th>        <td>    0.0547</td> <td>    0.027</td> <td>    1.993</td> <td> 0.047</td> <td>    0.001</td> <td>    0.109</td>\n",
       "</tr>\n",
       "<tr>\n",
       "  <th>ZN PTRATIO</th>   <td>    0.0520</td> <td>    0.021</td> <td>    2.469</td> <td> 0.014</td> <td>    0.011</td> <td>    0.093</td>\n",
       "</tr>\n",
       "<tr>\n",
       "  <th>ZN LSTAT</th>     <td>   -0.0553</td> <td>    0.033</td> <td>   -1.662</td> <td> 0.097</td> <td>   -0.121</td> <td>    0.010</td>\n",
       "</tr>\n",
       "<tr>\n",
       "  <th>INDUS RM</th>     <td>    0.0013</td> <td>    0.052</td> <td>    0.025</td> <td> 0.980</td> <td>   -0.102</td> <td>    0.104</td>\n",
       "</tr>\n",
       "<tr>\n",
       "  <th>INDUS LSTAT</th>  <td>   -0.0723</td> <td>    0.044</td> <td>   -1.649</td> <td> 0.100</td> <td>   -0.158</td> <td>    0.014</td>\n",
       "</tr>\n",
       "<tr>\n",
       "  <th>RM^2</th>         <td>    0.0730</td> <td>    0.015</td> <td>    5.035</td> <td> 0.000</td> <td>    0.045</td> <td>    0.102</td>\n",
       "</tr>\n",
       "<tr>\n",
       "  <th>RM RAD</th>       <td>   -0.0633</td> <td>    0.074</td> <td>   -0.852</td> <td> 0.395</td> <td>   -0.209</td> <td>    0.083</td>\n",
       "</tr>\n",
       "<tr>\n",
       "  <th>RM TAX</th>       <td>   -0.0884</td> <td>    0.085</td> <td>   -1.042</td> <td> 0.298</td> <td>   -0.255</td> <td>    0.078</td>\n",
       "</tr>\n",
       "<tr>\n",
       "  <th>RM PTRATIO</th>   <td>   -0.0749</td> <td>    0.024</td> <td>   -3.160</td> <td> 0.002</td> <td>   -0.121</td> <td>   -0.028</td>\n",
       "</tr>\n",
       "<tr>\n",
       "  <th>RAD LSTAT</th>    <td>   -0.1423</td> <td>    0.068</td> <td>   -2.083</td> <td> 0.038</td> <td>   -0.277</td> <td>   -0.008</td>\n",
       "</tr>\n",
       "<tr>\n",
       "  <th>TAX LSTAT</th>    <td>   -0.0629</td> <td>    0.075</td> <td>   -0.835</td> <td> 0.404</td> <td>   -0.211</td> <td>    0.085</td>\n",
       "</tr>\n",
       "<tr>\n",
       "  <th>PTRATIO^2</th>    <td>   -0.0227</td> <td>    0.021</td> <td>   -1.084</td> <td> 0.279</td> <td>   -0.064</td> <td>    0.018</td>\n",
       "</tr>\n",
       "<tr>\n",
       "  <th>LSTAT^2</th>      <td>    0.0790</td> <td>    0.020</td> <td>    3.874</td> <td> 0.000</td> <td>    0.039</td> <td>    0.119</td>\n",
       "</tr>\n",
       "</table>\n",
       "<table class=\"simpletable\">\n",
       "<tr>\n",
       "  <th>Omnibus:</th>       <td>53.309</td> <th>  Durbin-Watson:     </th> <td>   1.280</td>\n",
       "</tr>\n",
       "<tr>\n",
       "  <th>Prob(Omnibus):</th> <td> 0.000</td> <th>  Jarque-Bera (JB):  </th> <td> 119.821</td>\n",
       "</tr>\n",
       "<tr>\n",
       "  <th>Skew:</th>          <td> 0.605</td> <th>  Prob(JB):          </th> <td>9.58e-27</td>\n",
       "</tr>\n",
       "<tr>\n",
       "  <th>Kurtosis:</th>      <td> 5.137</td> <th>  Cond. No.          </th> <td>    165.</td>\n",
       "</tr>\n",
       "</table><br/><br/>Notes:<br/>[1] Standard Errors assume that the covariance matrix of the errors is correctly specified."
      ],
      "text/plain": [
       "<class 'statsmodels.iolib.summary.Summary'>\n",
       "\"\"\"\n",
       "                            OLS Regression Results                            \n",
       "==============================================================================\n",
       "Dep. Variable:                   MEDV   R-squared:                       0.892\n",
       "Model:                            OLS   Adj. R-squared:                  0.886\n",
       "Method:                 Least Squares   F-statistic:                     137.7\n",
       "Date:                Wed, 08 Sep 2021   Prob (F-statistic):          3.19e-198\n",
       "Time:                        11:15:48   Log-Likelihood:                -145.53\n",
       "No. Observations:                 477   AIC:                             347.1\n",
       "Df Residuals:                     449   BIC:                             463.8\n",
       "Df Model:                          27                                         \n",
       "Covariance Type:            nonrobust                                         \n",
       "================================================================================\n",
       "                   coef    std err          t      P>|t|      [0.025      0.975]\n",
       "--------------------------------------------------------------------------------\n",
       "const           -0.6600      0.175     -3.778      0.000      -1.003      -0.317\n",
       "CRIM            -1.6093      0.418     -3.852      0.000      -2.430      -0.788\n",
       "INDUS            0.4509      0.164      2.750      0.006       0.129       0.773\n",
       "RM               0.3257      0.027     12.256      0.000       0.274       0.378\n",
       "TAX              0.0010      0.091      0.011      0.991      -0.178       0.180\n",
       "LSTAT           -0.3818      0.037    -10.370      0.000      -0.454      -0.309\n",
       "CRIM INDUS       1.2079      0.413      2.921      0.004       0.395       2.021\n",
       "CRIM NOX        -0.2055      0.062     -3.327      0.001      -0.327      -0.084\n",
       "CRIM RM          0.0581      0.042      1.379      0.169      -0.025       0.141\n",
       "CRIM AGE         0.1992      0.052      3.814      0.000       0.097       0.302\n",
       "CRIM DIS         0.3660      0.067      5.449      0.000       0.234       0.498\n",
       "CRIM RAD        -0.4424      0.115     -3.836      0.000      -0.669      -0.216\n",
       "CRIM TAX         0.6379      0.246      2.597      0.010       0.155       1.121\n",
       "CRIM PTRATIO     0.4033      0.071      5.706      0.000       0.264       0.542\n",
       "CRIM LSTAT       0.0908      0.035      2.589      0.010       0.022       0.160\n",
       "ZN RM            0.0547      0.027      1.993      0.047       0.001       0.109\n",
       "ZN PTRATIO       0.0520      0.021      2.469      0.014       0.011       0.093\n",
       "ZN LSTAT        -0.0553      0.033     -1.662      0.097      -0.121       0.010\n",
       "INDUS RM         0.0013      0.052      0.025      0.980      -0.102       0.104\n",
       "INDUS LSTAT     -0.0723      0.044     -1.649      0.100      -0.158       0.014\n",
       "RM^2             0.0730      0.015      5.035      0.000       0.045       0.102\n",
       "RM RAD          -0.0633      0.074     -0.852      0.395      -0.209       0.083\n",
       "RM TAX          -0.0884      0.085     -1.042      0.298      -0.255       0.078\n",
       "RM PTRATIO      -0.0749      0.024     -3.160      0.002      -0.121      -0.028\n",
       "RAD LSTAT       -0.1423      0.068     -2.083      0.038      -0.277      -0.008\n",
       "TAX LSTAT       -0.0629      0.075     -0.835      0.404      -0.211       0.085\n",
       "PTRATIO^2       -0.0227      0.021     -1.084      0.279      -0.064       0.018\n",
       "LSTAT^2          0.0790      0.020      3.874      0.000       0.039       0.119\n",
       "==============================================================================\n",
       "Omnibus:                       53.309   Durbin-Watson:                   1.280\n",
       "Prob(Omnibus):                  0.000   Jarque-Bera (JB):              119.821\n",
       "Skew:                           0.605   Prob(JB):                     9.58e-27\n",
       "Kurtosis:                       5.137   Cond. No.                         165.\n",
       "==============================================================================\n",
       "\n",
       "Notes:\n",
       "[1] Standard Errors assume that the covariance matrix of the errors is correctly specified.\n",
       "\"\"\""
      ]
     },
     "execution_count": 227,
     "metadata": {},
     "output_type": "execute_result"
    }
   ],
   "source": [
    "rlt_poly_reg2.summary()"
   ]
  },
  {
   "cell_type": "code",
   "execution_count": 245,
   "id": "8ce01e20",
   "metadata": {},
   "outputs": [],
   "source": [
    "train_x, test_x, train_y, test_y = train_test_split(X0_c_poly_k, y_c, test_size=0.2, random_state=0)"
   ]
  },
  {
   "cell_type": "code",
   "execution_count": 246,
   "id": "f223e422",
   "metadata": {},
   "outputs": [],
   "source": [
    "model = LinearRegression().fit(train_x, train_y)"
   ]
  },
  {
   "cell_type": "code",
   "execution_count": 247,
   "id": "0a8af004",
   "metadata": {},
   "outputs": [
    {
     "data": {
      "text/plain": [
       "(0.8945538723477148, 0.8727646784084724)"
      ]
     },
     "execution_count": 247,
     "metadata": {},
     "output_type": "execute_result"
    }
   ],
   "source": [
    "y_pred_train, y_pred_test = model.predict(train_x), model.predict(test_x)\n",
    "r2_score(train_y, y_pred_train), r2_score(test_y, y_pred_test)"
   ]
  },
  {
   "cell_type": "code",
   "execution_count": null,
   "id": "4614a49d",
   "metadata": {},
   "outputs": [],
   "source": [
    "# 훈련데이터에 대한 성능은 감소하였으나 테스트데이터에 대한 점수가 변화가 없다.\n",
    "# 따라서 27개의 변수를 가져가기로 한다."
   ]
  },
  {
   "cell_type": "markdown",
   "id": "a722fb3b",
   "metadata": {},
   "source": [
    "## 규제화 - 릿지, 라쏘, 엘라스틱넷"
   ]
  },
  {
   "cell_type": "code",
   "execution_count": 250,
   "id": "b3f24e92",
   "metadata": {},
   "outputs": [],
   "source": [
    "model_ridge = Ridge().fit(train_x, train_y)\n",
    "model_lasso = Lasso().fit(train_x, train_y)\n",
    "model_elasticnet = ElasticNet().fit(train_x, train_y)"
   ]
  },
  {
   "cell_type": "code",
   "execution_count": 251,
   "id": "4e373206",
   "metadata": {},
   "outputs": [],
   "source": [
    "y_pred_ridge = model_ridge.predict(test_x)\n",
    "y_pred_lasso = model_lasso.predict(test_x)\n",
    "y_pred_elasticnet = model_elasticnet.predict(test_x)"
   ]
  },
  {
   "cell_type": "code",
   "execution_count": 252,
   "id": "5d5d56d0",
   "metadata": {},
   "outputs": [
    {
     "data": {
      "text/plain": [
       "(0.8718290041515818, -0.014506538326229945, 0.36531010384500606)"
      ]
     },
     "execution_count": 252,
     "metadata": {},
     "output_type": "execute_result"
    }
   ],
   "source": [
    "r2_score(test_y, y_pred_ridge), r2_score(test_y, y_pred_lasso), r2_score(test_y, y_pred_elasticnet)"
   ]
  }
 ],
 "metadata": {
  "hide_input": false,
  "kernelspec": {
   "display_name": "Python 3",
   "language": "python",
   "name": "python3"
  },
  "language_info": {
   "codemirror_mode": {
    "name": "ipython",
    "version": 3
   },
   "file_extension": ".py",
   "mimetype": "text/x-python",
   "name": "python",
   "nbconvert_exporter": "python",
   "pygments_lexer": "ipython3",
   "version": "3.7.10"
  }
 },
 "nbformat": 4,
 "nbformat_minor": 5
}
